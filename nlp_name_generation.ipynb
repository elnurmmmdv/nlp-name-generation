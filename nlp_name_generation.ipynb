{
  "nbformat": 4,
  "nbformat_minor": 0,
  "metadata": {
    "coursera": {
      "course_slug": "nlp-sequence-models",
      "graded_item_id": "EG0F7",
      "launcher_item_id": "cxJXc"
    },
    "kernelspec": {
      "display_name": "Python 3",
      "language": "python",
      "name": "python3"
    },
    "language_info": {
      "codemirror_mode": {
        "name": "ipython",
        "version": 3
      },
      "file_extension": ".py",
      "mimetype": "text/x-python",
      "name": "python",
      "nbconvert_exporter": "python",
      "pygments_lexer": "ipython3",
      "version": "3.6.0"
    },
    "colab": {
      "name": "nlp-name-generation.ipynb",
      "provenance": [],
      "collapsed_sections": []
    },
    "accelerator": "GPU",
    "widgets": {
      "application/vnd.jupyter.widget-state+json": {
        "d9e3a37d2c4c4f97b86d78e02d1173c2": {
          "model_module": "@jupyter-widgets/controls",
          "model_name": "DropdownModel",
          "state": {
            "_options_labels": [
              "None",
              "Male",
              "Female"
            ],
            "_view_name": "DropdownView",
            "style": "IPY_MODEL_1ce2fb6eb28d42469573c9e142262ca5",
            "_dom_classes": [],
            "description": "Gender",
            "_model_name": "DropdownModel",
            "index": null,
            "_view_module": "@jupyter-widgets/controls",
            "_model_module_version": "1.5.0",
            "_view_count": null,
            "disabled": false,
            "_view_module_version": "1.5.0",
            "description_tooltip": null,
            "_model_module": "@jupyter-widgets/controls",
            "layout": "IPY_MODEL_6c520ff9bafd410f9f8251360e7953e1"
          }
        },
        "1ce2fb6eb28d42469573c9e142262ca5": {
          "model_module": "@jupyter-widgets/controls",
          "model_name": "DescriptionStyleModel",
          "state": {
            "_view_name": "StyleView",
            "_model_name": "DescriptionStyleModel",
            "description_width": "",
            "_view_module": "@jupyter-widgets/base",
            "_model_module_version": "1.5.0",
            "_view_count": null,
            "_view_module_version": "1.2.0",
            "_model_module": "@jupyter-widgets/controls"
          }
        },
        "6c520ff9bafd410f9f8251360e7953e1": {
          "model_module": "@jupyter-widgets/base",
          "model_name": "LayoutModel",
          "state": {
            "_view_name": "LayoutView",
            "grid_template_rows": null,
            "right": null,
            "justify_content": null,
            "_view_module": "@jupyter-widgets/base",
            "overflow": null,
            "_model_module_version": "1.2.0",
            "_view_count": null,
            "flex_flow": null,
            "width": null,
            "min_width": null,
            "border": null,
            "align_items": null,
            "bottom": null,
            "_model_module": "@jupyter-widgets/base",
            "top": null,
            "grid_column": null,
            "overflow_y": null,
            "overflow_x": null,
            "grid_auto_flow": null,
            "grid_area": null,
            "grid_template_columns": null,
            "flex": null,
            "_model_name": "LayoutModel",
            "justify_items": null,
            "grid_row": null,
            "max_height": null,
            "align_content": null,
            "visibility": null,
            "align_self": null,
            "height": null,
            "min_height": null,
            "padding": null,
            "grid_auto_rows": null,
            "grid_gap": null,
            "max_width": null,
            "order": null,
            "_view_module_version": "1.2.0",
            "grid_template_areas": null,
            "object_position": null,
            "object_fit": null,
            "grid_auto_columns": null,
            "margin": null,
            "display": null,
            "left": null
          }
        },
        "04f2df6bf277493bb66333e71ef2cba9": {
          "model_module": "@jupyter-widgets/controls",
          "model_name": "BoundedFloatTextModel",
          "state": {
            "_view_name": "FloatTextView",
            "style": "IPY_MODEL_1b3e14ef49314b5b8fc5805bef71b5e7",
            "_dom_classes": [],
            "description": "Number",
            "_model_name": "BoundedFloatTextModel",
            "max": 50,
            "_view_module": "@jupyter-widgets/controls",
            "_model_module_version": "1.5.0",
            "value": 15,
            "_view_count": null,
            "disabled": false,
            "_view_module_version": "1.5.0",
            "min": 1,
            "continuous_update": false,
            "step": 1,
            "description_tooltip": null,
            "_model_module": "@jupyter-widgets/controls",
            "layout": "IPY_MODEL_42b32988d833409d92c1fa64e5606f98"
          }
        },
        "1b3e14ef49314b5b8fc5805bef71b5e7": {
          "model_module": "@jupyter-widgets/controls",
          "model_name": "DescriptionStyleModel",
          "state": {
            "_view_name": "StyleView",
            "_model_name": "DescriptionStyleModel",
            "description_width": "",
            "_view_module": "@jupyter-widgets/base",
            "_model_module_version": "1.5.0",
            "_view_count": null,
            "_view_module_version": "1.2.0",
            "_model_module": "@jupyter-widgets/controls"
          }
        },
        "42b32988d833409d92c1fa64e5606f98": {
          "model_module": "@jupyter-widgets/base",
          "model_name": "LayoutModel",
          "state": {
            "_view_name": "LayoutView",
            "grid_template_rows": null,
            "right": null,
            "justify_content": null,
            "_view_module": "@jupyter-widgets/base",
            "overflow": null,
            "_model_module_version": "1.2.0",
            "_view_count": null,
            "flex_flow": null,
            "width": null,
            "min_width": null,
            "border": null,
            "align_items": null,
            "bottom": null,
            "_model_module": "@jupyter-widgets/base",
            "top": null,
            "grid_column": null,
            "overflow_y": null,
            "overflow_x": null,
            "grid_auto_flow": null,
            "grid_area": null,
            "grid_template_columns": null,
            "flex": null,
            "_model_name": "LayoutModel",
            "justify_items": null,
            "grid_row": null,
            "max_height": null,
            "align_content": null,
            "visibility": null,
            "align_self": null,
            "height": null,
            "min_height": null,
            "padding": null,
            "grid_auto_rows": null,
            "grid_gap": null,
            "max_width": null,
            "order": null,
            "_view_module_version": "1.2.0",
            "grid_template_areas": null,
            "object_position": null,
            "object_fit": null,
            "grid_auto_columns": null,
            "margin": null,
            "display": null,
            "left": null
          }
        },
        "d0d8b3833bbd42dcb4bdd8197f5866f0": {
          "model_module": "@jupyter-widgets/output",
          "model_name": "OutputModel",
          "state": {
            "_view_name": "OutputView",
            "msg_id": "",
            "_dom_classes": [],
            "_model_name": "OutputModel",
            "outputs": [],
            "_view_module": "@jupyter-widgets/output",
            "_model_module_version": "1.0.0",
            "_view_count": null,
            "_view_module_version": "1.0.0",
            "layout": "IPY_MODEL_004fa6b5e95f46a4ae9a788b721ee8b9",
            "_model_module": "@jupyter-widgets/output"
          }
        },
        "004fa6b5e95f46a4ae9a788b721ee8b9": {
          "model_module": "@jupyter-widgets/base",
          "model_name": "LayoutModel",
          "state": {
            "_view_name": "LayoutView",
            "grid_template_rows": null,
            "right": null,
            "justify_content": null,
            "_view_module": "@jupyter-widgets/base",
            "overflow": null,
            "_model_module_version": "1.2.0",
            "_view_count": null,
            "flex_flow": null,
            "width": null,
            "min_width": null,
            "border": null,
            "align_items": null,
            "bottom": null,
            "_model_module": "@jupyter-widgets/base",
            "top": null,
            "grid_column": null,
            "overflow_y": null,
            "overflow_x": null,
            "grid_auto_flow": null,
            "grid_area": null,
            "grid_template_columns": null,
            "flex": null,
            "_model_name": "LayoutModel",
            "justify_items": null,
            "grid_row": null,
            "max_height": null,
            "align_content": null,
            "visibility": null,
            "align_self": null,
            "height": null,
            "min_height": null,
            "padding": null,
            "grid_auto_rows": null,
            "grid_gap": null,
            "max_width": null,
            "order": null,
            "_view_module_version": "1.2.0",
            "grid_template_areas": null,
            "object_position": null,
            "object_fit": null,
            "grid_auto_columns": null,
            "margin": null,
            "display": null,
            "left": null
          }
        }
      }
    }
  },
  "cells": [
    {
      "cell_type": "code",
      "metadata": {
        "id": "MlRux_rKYi1z"
      },
      "source": [
        "import tensorflow as tf\n",
        "from tensorflow.keras.preprocessing.sequence import pad_sequences\n",
        "from tensorflow.keras.layers import Embedding, LSTM, Dense, Dropout, Bidirectional, Conv1D, MaxPooling1D\n",
        "from tensorflow.keras.models import Sequential\n",
        "from tensorflow.keras.optimizers import Adam\n",
        "import tensorflow.keras.utils as ku \n",
        "import numpy as np \n",
        "import matplotlib.pyplot as plt\n",
        "import ipywidgets as widgets\n",
        "from IPython.display import display"
      ],
      "execution_count": 2,
      "outputs": []
    },
    {
      "cell_type": "markdown",
      "metadata": {
        "id": "6F83uJOs-eco"
      },
      "source": [
        "#Data Collection"
      ]
    },
    {
      "cell_type": "code",
      "metadata": {
        "id": "NBmpAJi-Zxjq",
        "colab": {
          "base_uri": "https://localhost:8080/"
        },
        "outputId": "54088ed9-50a2-4c82-a25c-b0f611b95b48"
      },
      "source": [
        "# create vocabulary for training\n",
        "\n",
        "chars = ['\\n', 'a', 'b', 'c', 'ç', 'd', 'e', 'ə', 'f', 'g', 'ğ', 'h', 'x', 'ı',\n",
        "        'i', 'j', 'k', 'q', 'l', 'm', 'n', 'o', 'ö', 'p', 'r', 's', 'ş', 't', 'u', 'ü', 'v', 'y', 'z' ]\n",
        "chars = sorted(chars)\n",
        "print(chars)"
      ],
      "execution_count": 3,
      "outputs": [
        {
          "output_type": "stream",
          "text": [
            "['\\n', 'a', 'b', 'c', 'd', 'e', 'f', 'g', 'h', 'i', 'j', 'k', 'l', 'm', 'n', 'o', 'p', 'q', 'r', 's', 't', 'u', 'v', 'x', 'y', 'z', 'ç', 'ö', 'ü', 'ğ', 'ı', 'ş', 'ə']\n"
          ],
          "name": "stdout"
        }
      ]
    },
    {
      "cell_type": "code",
      "metadata": {
        "id": "t4NsR3agZ8-w",
        "colab": {
          "base_uri": "https://localhost:8080/"
        },
        "outputId": "87cdc61c-177a-4aba-9d80-0ba3221afa93"
      },
      "source": [
        "vocab_size = len(chars)\n",
        "vocab_size"
      ],
      "execution_count": 4,
      "outputs": [
        {
          "output_type": "execute_result",
          "data": {
            "text/plain": [
              "33"
            ]
          },
          "metadata": {
            "tags": []
          },
          "execution_count": 4
        }
      ]
    },
    {
      "cell_type": "code",
      "metadata": {
        "id": "XgEiQIaNLzmz"
      },
      "source": [
        "# create mapping between letters and their indexes\n",
        "\n",
        "char_to_ix = { ch:i for i,ch in enumerate(sorted(chars)) }\n",
        "ix_to_char = { i:ch for i,ch in enumerate(sorted(chars)) }"
      ],
      "execution_count": 5,
      "outputs": []
    },
    {
      "cell_type": "code",
      "metadata": {
        "colab": {
          "base_uri": "https://localhost:8080/"
        },
        "id": "iMdNMuPI4NGC",
        "outputId": "3ac725e2-8b86-44b8-a61d-be80dd0221d8"
      },
      "source": [
        "ix_to_char"
      ],
      "execution_count": 6,
      "outputs": [
        {
          "output_type": "execute_result",
          "data": {
            "text/plain": [
              "{0: '\\n',\n",
              " 1: 'a',\n",
              " 2: 'b',\n",
              " 3: 'c',\n",
              " 4: 'd',\n",
              " 5: 'e',\n",
              " 6: 'f',\n",
              " 7: 'g',\n",
              " 8: 'h',\n",
              " 9: 'i',\n",
              " 10: 'j',\n",
              " 11: 'k',\n",
              " 12: 'l',\n",
              " 13: 'm',\n",
              " 14: 'n',\n",
              " 15: 'o',\n",
              " 16: 'p',\n",
              " 17: 'q',\n",
              " 18: 'r',\n",
              " 19: 's',\n",
              " 20: 't',\n",
              " 21: 'u',\n",
              " 22: 'v',\n",
              " 23: 'x',\n",
              " 24: 'y',\n",
              " 25: 'z',\n",
              " 26: 'ç',\n",
              " 27: 'ö',\n",
              " 28: 'ü',\n",
              " 29: 'ğ',\n",
              " 30: 'ı',\n",
              " 31: 'ş',\n",
              " 32: 'ə'}"
            ]
          },
          "metadata": {
            "tags": []
          },
          "execution_count": 6
        }
      ]
    },
    {
      "cell_type": "code",
      "metadata": {
        "colab": {
          "base_uri": "https://localhost:8080/"
        },
        "id": "VipK6A_PoN3A",
        "outputId": "fceb5b9d-2739-432d-cb99-fa4fc5444d71"
      },
      "source": [
        "with open('male_names.txt', 'r') as f:\n",
        "    m_names = f.read()\n",
        "m_names = m_names.split('\\n')\n",
        "m_names[:10]"
      ],
      "execution_count": 7,
      "outputs": [
        {
          "output_type": "execute_result",
          "data": {
            "text/plain": [
              "['aba',\n",
              " 'ababəy',\n",
              " 'abaçı',\n",
              " 'abaxan',\n",
              " 'abakar',\n",
              " 'abakər',\n",
              " 'abaqa',\n",
              " 'abas',\n",
              " 'abasağa',\n",
              " 'abasalı']"
            ]
          },
          "metadata": {
            "tags": []
          },
          "execution_count": 7
        }
      ]
    },
    {
      "cell_type": "code",
      "metadata": {
        "colab": {
          "base_uri": "https://localhost:8080/"
        },
        "id": "3InJoCGQ9p_J",
        "outputId": "8a1bdde2-e978-4398-94e2-78db236ef499"
      },
      "source": [
        "# add \\n to the end of each word to let know model when the word ends\n",
        "male_names = []\n",
        "\n",
        "for i in m_names:\n",
        "  male_names.append(i + '\\n')\n",
        "male_names[:10]"
      ],
      "execution_count": 8,
      "outputs": [
        {
          "output_type": "execute_result",
          "data": {
            "text/plain": [
              "['aba\\n',\n",
              " 'ababəy\\n',\n",
              " 'abaçı\\n',\n",
              " 'abaxan\\n',\n",
              " 'abakar\\n',\n",
              " 'abakər\\n',\n",
              " 'abaqa\\n',\n",
              " 'abas\\n',\n",
              " 'abasağa\\n',\n",
              " 'abasalı\\n']"
            ]
          },
          "metadata": {
            "tags": []
          },
          "execution_count": 8
        }
      ]
    },
    {
      "cell_type": "code",
      "metadata": {
        "colab": {
          "base_uri": "https://localhost:8080/"
        },
        "id": "dBo7k8LU5k-5",
        "outputId": "402bc463-3e57-4da1-e0b0-543765ec193b"
      },
      "source": [
        "# convert letters to numbers\n",
        "male_names_indexed = []\n",
        "\n",
        "for i in male_names:\n",
        "    male_names_indexed.append([char_to_ix[j] for j in i])\n",
        "\n",
        "male_names_indexed[:9]"
      ],
      "execution_count": 9,
      "outputs": [
        {
          "output_type": "execute_result",
          "data": {
            "text/plain": [
              "[[1, 2, 1, 0],\n",
              " [1, 2, 1, 2, 32, 24, 0],\n",
              " [1, 2, 1, 26, 30, 0],\n",
              " [1, 2, 1, 23, 1, 14, 0],\n",
              " [1, 2, 1, 11, 1, 18, 0],\n",
              " [1, 2, 1, 11, 32, 18, 0],\n",
              " [1, 2, 1, 17, 1, 0],\n",
              " [1, 2, 1, 19, 0],\n",
              " [1, 2, 1, 19, 1, 29, 1, 0]]"
            ]
          },
          "metadata": {
            "tags": []
          },
          "execution_count": 9
        }
      ]
    },
    {
      "cell_type": "code",
      "metadata": {
        "colab": {
          "base_uri": "https://localhost:8080/"
        },
        "id": "s6d94LYov0V1",
        "outputId": "b3572bc5-bbf8-4512-8aef-9851b567a104"
      },
      "source": [
        "# in order to have more training data and better model we will look at each part of the word as a seperate sequence  \n",
        "input_m_names = []\n",
        "\n",
        "for word in male_names_indexed:\n",
        "\tfor i in range(1, len(word)):\n",
        "\t\tsequence = word[:i+1]\n",
        "\t\tinput_m_names.append(sequence)\n",
        "\n",
        "input_m_names[:9]"
      ],
      "execution_count": 10,
      "outputs": [
        {
          "output_type": "execute_result",
          "data": {
            "text/plain": [
              "[[1, 2],\n",
              " [1, 2, 1],\n",
              " [1, 2, 1, 0],\n",
              " [1, 2],\n",
              " [1, 2, 1],\n",
              " [1, 2, 1, 2],\n",
              " [1, 2, 1, 2, 32],\n",
              " [1, 2, 1, 2, 32, 24],\n",
              " [1, 2, 1, 2, 32, 24, 0]]"
            ]
          },
          "metadata": {
            "tags": []
          },
          "execution_count": 10
        }
      ]
    },
    {
      "cell_type": "code",
      "metadata": {
        "colab": {
          "base_uri": "https://localhost:8080/"
        },
        "id": "Qgh8JzfFv9m5",
        "outputId": "8964cf99-8f8a-4cc7-a36d-924c864fd77c"
      },
      "source": [
        "# we need to find max length of the words to use in padding\n",
        "max_m_name_len = max([len(x) for x in input_m_names])\n",
        "max_m_name_len"
      ],
      "execution_count": 11,
      "outputs": [
        {
          "output_type": "execute_result",
          "data": {
            "text/plain": [
              "14"
            ]
          },
          "metadata": {
            "tags": []
          },
          "execution_count": 11
        }
      ]
    },
    {
      "cell_type": "code",
      "metadata": {
        "colab": {
          "base_uri": "https://localhost:8080/"
        },
        "id": "-kWQPA70v9wZ",
        "outputId": "fbf40a98-80af-4ce2-ecb7-d923ec84c75f"
      },
      "source": [
        "# we will pad each word to have equal shape in dataset\n",
        "input_m_names = np.array(pad_sequences(input_m_names, maxlen=max_m_name_len, padding='pre'))\n",
        "input_m_names"
      ],
      "execution_count": 12,
      "outputs": [
        {
          "output_type": "execute_result",
          "data": {
            "text/plain": [
              "array([[ 0,  0,  0, ...,  0,  1,  2],\n",
              "       [ 0,  0,  0, ...,  1,  2,  1],\n",
              "       [ 0,  0,  0, ...,  2,  1,  0],\n",
              "       ...,\n",
              "       [ 0,  0,  0, ..., 28, 18,  1],\n",
              "       [ 0,  0,  0, ..., 18,  1,  2],\n",
              "       [ 0,  0,  0, ...,  1,  2,  0]], dtype=int32)"
            ]
          },
          "metadata": {
            "tags": []
          },
          "execution_count": 12
        }
      ]
    },
    {
      "cell_type": "markdown",
      "metadata": {
        "id": "3A5hKBC594y2"
      },
      "source": [
        "#Apply Everything to Female Names"
      ]
    },
    {
      "cell_type": "code",
      "metadata": {
        "colab": {
          "base_uri": "https://localhost:8080/"
        },
        "id": "BiS_kl03ZkDs",
        "outputId": "9c150bda-8a16-4405-93d7-4d86277f8205"
      },
      "source": [
        "with open('female_names.txt', 'r') as f:\n",
        "    f_names = f.read()\n",
        "f_names = f_names.split('\\n')\n",
        "f_names[:10]"
      ],
      "execution_count": 13,
      "outputs": [
        {
          "output_type": "execute_result",
          "data": {
            "text/plain": [
              "['ababil',\n",
              " 'abadət',\n",
              " 'abagül',\n",
              " 'abaqay',\n",
              " 'abayət',\n",
              " 'abdəst',\n",
              " 'abgül',\n",
              " 'abhava',\n",
              " 'abhəyat',\n",
              " 'abxanım']"
            ]
          },
          "metadata": {
            "tags": []
          },
          "execution_count": 13
        }
      ]
    },
    {
      "cell_type": "code",
      "metadata": {
        "colab": {
          "base_uri": "https://localhost:8080/"
        },
        "id": "dd4U85pq-O5D",
        "outputId": "2875a187-f760-470c-e54d-89c715b86920"
      },
      "source": [
        "female_names = []\n",
        "for i in f_names:\n",
        "  female_names.append(i + '\\n')\n",
        "female_names[:10]"
      ],
      "execution_count": 14,
      "outputs": [
        {
          "output_type": "execute_result",
          "data": {
            "text/plain": [
              "['ababil\\n',\n",
              " 'abadət\\n',\n",
              " 'abagül\\n',\n",
              " 'abaqay\\n',\n",
              " 'abayət\\n',\n",
              " 'abdəst\\n',\n",
              " 'abgül\\n',\n",
              " 'abhava\\n',\n",
              " 'abhəyat\\n',\n",
              " 'abxanım\\n']"
            ]
          },
          "metadata": {
            "tags": []
          },
          "execution_count": 14
        }
      ]
    },
    {
      "cell_type": "code",
      "metadata": {
        "colab": {
          "base_uri": "https://localhost:8080/"
        },
        "id": "Xeq1exApHDsl",
        "outputId": "351c9945-859f-487a-d8e5-99781e0c840a"
      },
      "source": [
        "female_names_indexed = []\n",
        "\n",
        "for i in female_names:\n",
        "    female_names_indexed.append([char_to_ix[j] for j in i])\n",
        "\n",
        "female_names_indexed[:9]"
      ],
      "execution_count": 15,
      "outputs": [
        {
          "output_type": "execute_result",
          "data": {
            "text/plain": [
              "[[1, 2, 1, 2, 9, 12, 0],\n",
              " [1, 2, 1, 4, 32, 20, 0],\n",
              " [1, 2, 1, 7, 28, 12, 0],\n",
              " [1, 2, 1, 17, 1, 24, 0],\n",
              " [1, 2, 1, 24, 32, 20, 0],\n",
              " [1, 2, 4, 32, 19, 20, 0],\n",
              " [1, 2, 7, 28, 12, 0],\n",
              " [1, 2, 8, 1, 22, 1, 0],\n",
              " [1, 2, 8, 32, 24, 1, 20, 0]]"
            ]
          },
          "metadata": {
            "tags": []
          },
          "execution_count": 15
        }
      ]
    },
    {
      "cell_type": "code",
      "metadata": {
        "colab": {
          "base_uri": "https://localhost:8080/"
        },
        "id": "3DAu4ROWHUxK",
        "outputId": "da435d9e-7366-4712-a883-c15b7f687e67"
      },
      "source": [
        "input_f_names = []\n",
        "\n",
        "for word in female_names_indexed:\n",
        "\tfor i in range(1, len(word)):\n",
        "\t\tsequence = word[:i+1]\n",
        "\t\tinput_f_names.append(sequence)\n",
        "\n",
        "input_f_names[:9]"
      ],
      "execution_count": 16,
      "outputs": [
        {
          "output_type": "execute_result",
          "data": {
            "text/plain": [
              "[[1, 2],\n",
              " [1, 2, 1],\n",
              " [1, 2, 1, 2],\n",
              " [1, 2, 1, 2, 9],\n",
              " [1, 2, 1, 2, 9, 12],\n",
              " [1, 2, 1, 2, 9, 12, 0],\n",
              " [1, 2],\n",
              " [1, 2, 1],\n",
              " [1, 2, 1, 4]]"
            ]
          },
          "metadata": {
            "tags": []
          },
          "execution_count": 16
        }
      ]
    },
    {
      "cell_type": "code",
      "metadata": {
        "colab": {
          "base_uri": "https://localhost:8080/"
        },
        "id": "QZC7yUeKHkPv",
        "outputId": "7683e34e-3413-4da4-d207-faed2b9cf57c"
      },
      "source": [
        "max_f_name_len = max([len(x) for x in input_f_names])\n",
        "max_f_name_len"
      ],
      "execution_count": 17,
      "outputs": [
        {
          "output_type": "execute_result",
          "data": {
            "text/plain": [
              "14"
            ]
          },
          "metadata": {
            "tags": []
          },
          "execution_count": 17
        }
      ]
    },
    {
      "cell_type": "code",
      "metadata": {
        "colab": {
          "base_uri": "https://localhost:8080/"
        },
        "id": "QCE0r5P6H8nX",
        "outputId": "3d79a6d4-0a50-482d-ce4d-a3de77ec0dcd"
      },
      "source": [
        "input_f_names = np.array(pad_sequences(input_f_names, maxlen=max_f_name_len, padding='pre'))\n",
        "input_f_names"
      ],
      "execution_count": 18,
      "outputs": [
        {
          "output_type": "execute_result",
          "data": {
            "text/plain": [
              "array([[ 0,  0,  0, ...,  0,  1,  2],\n",
              "       [ 0,  0,  0, ...,  1,  2,  1],\n",
              "       [ 0,  0,  0, ...,  2,  1,  2],\n",
              "       ...,\n",
              "       [ 0,  0,  0, ..., 13, 28, 18],\n",
              "       [ 0,  0,  0, ..., 28, 18, 32],\n",
              "       [ 0,  0,  0, ..., 18, 32,  0]], dtype=int32)"
            ]
          },
          "metadata": {
            "tags": []
          },
          "execution_count": 18
        }
      ]
    },
    {
      "cell_type": "code",
      "metadata": {
        "id": "eE8HwNZy-cmq"
      },
      "source": [
        ""
      ],
      "execution_count": 18,
      "outputs": []
    },
    {
      "cell_type": "markdown",
      "metadata": {
        "id": "2D8vYihH-4aO"
      },
      "source": [
        "#Training\n"
      ]
    },
    {
      "cell_type": "code",
      "metadata": {
        "id": "6XpppVNaxX-H"
      },
      "source": [
        "# create training set\n",
        "X_male, Y_male = input_m_names[:,:-1], input_m_names[:,-1]"
      ],
      "execution_count": 19,
      "outputs": []
    },
    {
      "cell_type": "code",
      "metadata": {
        "colab": {
          "base_uri": "https://localhost:8080/"
        },
        "id": "qlNEX0SS_Zhg",
        "outputId": "a3748f7d-30fd-41f6-b897-1cf9b70ed638"
      },
      "source": [
        "X_male.shape"
      ],
      "execution_count": 20,
      "outputs": [
        {
          "output_type": "execute_result",
          "data": {
            "text/plain": [
              "(55546, 13)"
            ]
          },
          "metadata": {
            "tags": []
          },
          "execution_count": 20
        }
      ]
    },
    {
      "cell_type": "code",
      "metadata": {
        "colab": {
          "base_uri": "https://localhost:8080/"
        },
        "id": "_cALVWVvwBSl",
        "outputId": "bd266764-cbee-435b-8647-8fd46e60840d"
      },
      "source": [
        "Y_male.shape"
      ],
      "execution_count": 21,
      "outputs": [
        {
          "output_type": "execute_result",
          "data": {
            "text/plain": [
              "(55546,)"
            ]
          },
          "metadata": {
            "tags": []
          },
          "execution_count": 21
        }
      ]
    },
    {
      "cell_type": "code",
      "metadata": {
        "colab": {
          "base_uri": "https://localhost:8080/"
        },
        "id": "atNsZqBKx8fU",
        "outputId": "73c56d95-bc57-45bb-9804-03e6a80bb773"
      },
      "source": [
        "Y_male = ku.to_categorical(Y_male, num_classes=vocab_size)\n",
        "Y_male.shape"
      ],
      "execution_count": 22,
      "outputs": [
        {
          "output_type": "execute_result",
          "data": {
            "text/plain": [
              "(55546, 33)"
            ]
          },
          "metadata": {
            "tags": []
          },
          "execution_count": 22
        }
      ]
    },
    {
      "cell_type": "code",
      "metadata": {
        "id": "3cCxstJ_bWsM"
      },
      "source": [
        "from tensorflow.keras.optimizers import Adam"
      ],
      "execution_count": 23,
      "outputs": []
    },
    {
      "cell_type": "code",
      "metadata": {
        "colab": {
          "base_uri": "https://localhost:8080/"
        },
        "id": "Mysdw9b9y3ip",
        "outputId": "0c9840ee-6602-45e7-83cf-637579911ac0"
      },
      "source": [
        "# we will use Bidirectional LSTM\n",
        "model_male = Sequential([\n",
        "                    Embedding(vocab_size, 128, input_length = max_m_name_len - 1),\n",
        "                    \n",
        "                    Bidirectional(LSTM(150)),\n",
        "                    \n",
        "                    Dense(128, activation='relu'),\n",
        "                    Dense(64, activation='relu'),\n",
        "                    \n",
        "                    Dense(vocab_size, activation='softmax')\n",
        "])\n",
        "\n",
        "model_male.compile(loss='categorical_crossentropy', optimizer= Adam(learning_rate=0.01, decay = 0.001), metrics=['accuracy'])\n",
        "model_male.summary()\n"
      ],
      "execution_count": 24,
      "outputs": [
        {
          "output_type": "stream",
          "text": [
            "Model: \"sequential\"\n",
            "_________________________________________________________________\n",
            "Layer (type)                 Output Shape              Param #   \n",
            "=================================================================\n",
            "embedding (Embedding)        (None, 13, 128)           4224      \n",
            "_________________________________________________________________\n",
            "bidirectional (Bidirectional (None, 300)               334800    \n",
            "_________________________________________________________________\n",
            "dense (Dense)                (None, 128)               38528     \n",
            "_________________________________________________________________\n",
            "dense_1 (Dense)              (None, 64)                8256      \n",
            "_________________________________________________________________\n",
            "dense_2 (Dense)              (None, 33)                2145      \n",
            "=================================================================\n",
            "Total params: 387,953\n",
            "Trainable params: 387,953\n",
            "Non-trainable params: 0\n",
            "_________________________________________________________________\n"
          ],
          "name": "stdout"
        }
      ]
    },
    {
      "cell_type": "code",
      "metadata": {
        "id": "3JRZFVZAmuuP"
      },
      "source": [
        "# running model for a long time overfits to training data and generates exact same names in the dataset, \n",
        "# so we will create callback for early stopping\n",
        "\n",
        "class maleCallback(tf.keras.callbacks.Callback): \n",
        "    def on_epoch_end(self, epoch, logs={}): \n",
        "        if logs.get('accuracy') > 0.645:   \n",
        "          print(\"\\nReached %2.2f%% accuracy, stopping training!\" %(logs.get('accuracy')*100))   \n",
        "          self.model.stop_training = True\n",
        "\n",
        "maleCallback = maleCallback()"
      ],
      "execution_count": 25,
      "outputs": []
    },
    {
      "cell_type": "code",
      "metadata": {
        "colab": {
          "base_uri": "https://localhost:8080/"
        },
        "id": "9FFOXfmW3H_X",
        "outputId": "c2e38bab-ca8b-4fb2-c89a-f5ee8f4a486e"
      },
      "source": [
        "history_male = model_male.fit(X_male, Y_male, epochs = 1000, batch_size = 10000, verbose=1, callbacks= [maleCallback])"
      ],
      "execution_count": 26,
      "outputs": [
        {
          "output_type": "stream",
          "text": [
            "Epoch 1/1000\n",
            "6/6 [==============================] - 34s 124ms/step - loss: 3.5960 - accuracy: 0.0920\n",
            "Epoch 2/1000\n",
            "6/6 [==============================] - 1s 120ms/step - loss: 3.0486 - accuracy: 0.1657\n",
            "Epoch 3/1000\n",
            "6/6 [==============================] - 1s 114ms/step - loss: 2.8335 - accuracy: 0.2173\n",
            "Epoch 4/1000\n",
            "6/6 [==============================] - 1s 118ms/step - loss: 2.7949 - accuracy: 0.2237\n",
            "Epoch 5/1000\n",
            "6/6 [==============================] - 1s 118ms/step - loss: 2.6993 - accuracy: 0.2304\n",
            "Epoch 6/1000\n",
            "6/6 [==============================] - 1s 116ms/step - loss: 2.4905 - accuracy: 0.2784\n",
            "Epoch 7/1000\n",
            "6/6 [==============================] - 1s 118ms/step - loss: 2.3553 - accuracy: 0.3004\n",
            "Epoch 8/1000\n",
            "6/6 [==============================] - 1s 116ms/step - loss: 2.2609 - accuracy: 0.3172\n",
            "Epoch 9/1000\n",
            "6/6 [==============================] - 1s 116ms/step - loss: 2.2078 - accuracy: 0.3373\n",
            "Epoch 10/1000\n",
            "6/6 [==============================] - 1s 116ms/step - loss: 2.1602 - accuracy: 0.3519\n",
            "Epoch 11/1000\n",
            "6/6 [==============================] - 1s 118ms/step - loss: 2.1268 - accuracy: 0.3634\n",
            "Epoch 12/1000\n",
            "6/6 [==============================] - 1s 117ms/step - loss: 2.0883 - accuracy: 0.3696\n",
            "Epoch 13/1000\n",
            "6/6 [==============================] - 1s 117ms/step - loss: 2.0554 - accuracy: 0.3787\n",
            "Epoch 14/1000\n",
            "6/6 [==============================] - 1s 117ms/step - loss: 2.0324 - accuracy: 0.3831\n",
            "Epoch 15/1000\n",
            "6/6 [==============================] - 1s 118ms/step - loss: 1.9969 - accuracy: 0.3936\n",
            "Epoch 16/1000\n",
            "6/6 [==============================] - 1s 117ms/step - loss: 1.9681 - accuracy: 0.4020\n",
            "Epoch 17/1000\n",
            "6/6 [==============================] - 1s 117ms/step - loss: 1.9472 - accuracy: 0.4077\n",
            "Epoch 18/1000\n",
            "6/6 [==============================] - 1s 116ms/step - loss: 1.9121 - accuracy: 0.4173\n",
            "Epoch 19/1000\n",
            "6/6 [==============================] - 1s 120ms/step - loss: 1.8916 - accuracy: 0.4244\n",
            "Epoch 20/1000\n",
            "6/6 [==============================] - 1s 116ms/step - loss: 1.8674 - accuracy: 0.4313\n",
            "Epoch 21/1000\n",
            "6/6 [==============================] - 1s 118ms/step - loss: 1.8372 - accuracy: 0.4398\n",
            "Epoch 22/1000\n",
            "6/6 [==============================] - 1s 118ms/step - loss: 1.8037 - accuracy: 0.4476\n",
            "Epoch 23/1000\n",
            "6/6 [==============================] - 1s 117ms/step - loss: 1.7840 - accuracy: 0.4542\n",
            "Epoch 24/1000\n",
            "6/6 [==============================] - 1s 117ms/step - loss: 1.7579 - accuracy: 0.4597\n",
            "Epoch 25/1000\n",
            "6/6 [==============================] - 1s 118ms/step - loss: 1.7327 - accuracy: 0.4667\n",
            "Epoch 26/1000\n",
            "6/6 [==============================] - 1s 117ms/step - loss: 1.7088 - accuracy: 0.4722\n",
            "Epoch 27/1000\n",
            "6/6 [==============================] - 1s 118ms/step - loss: 1.6923 - accuracy: 0.4800\n",
            "Epoch 28/1000\n",
            "6/6 [==============================] - 1s 118ms/step - loss: 1.6728 - accuracy: 0.4847\n",
            "Epoch 29/1000\n",
            "6/6 [==============================] - 1s 118ms/step - loss: 1.6385 - accuracy: 0.4923\n",
            "Epoch 30/1000\n",
            "6/6 [==============================] - 1s 119ms/step - loss: 1.6261 - accuracy: 0.4980\n",
            "Epoch 31/1000\n",
            "6/6 [==============================] - 1s 118ms/step - loss: 1.5953 - accuracy: 0.5072\n",
            "Epoch 32/1000\n",
            "6/6 [==============================] - 1s 118ms/step - loss: 1.5793 - accuracy: 0.5125\n",
            "Epoch 33/1000\n",
            "6/6 [==============================] - 1s 118ms/step - loss: 1.5570 - accuracy: 0.5189\n",
            "Epoch 34/1000\n",
            "6/6 [==============================] - 1s 119ms/step - loss: 1.5364 - accuracy: 0.5229\n",
            "Epoch 35/1000\n",
            "6/6 [==============================] - 1s 120ms/step - loss: 1.5189 - accuracy: 0.5261\n",
            "Epoch 36/1000\n",
            "6/6 [==============================] - 1s 119ms/step - loss: 1.4932 - accuracy: 0.5353\n",
            "Epoch 37/1000\n",
            "6/6 [==============================] - 1s 119ms/step - loss: 1.4794 - accuracy: 0.5387\n",
            "Epoch 38/1000\n",
            "6/6 [==============================] - 1s 119ms/step - loss: 1.4558 - accuracy: 0.5447\n",
            "Epoch 39/1000\n",
            "6/6 [==============================] - 1s 118ms/step - loss: 1.4378 - accuracy: 0.5486\n",
            "Epoch 40/1000\n",
            "6/6 [==============================] - 1s 117ms/step - loss: 1.4137 - accuracy: 0.5564\n",
            "Epoch 41/1000\n",
            "6/6 [==============================] - 1s 118ms/step - loss: 1.3996 - accuracy: 0.5584\n",
            "Epoch 42/1000\n",
            "6/6 [==============================] - 1s 123ms/step - loss: 1.3785 - accuracy: 0.5650\n",
            "Epoch 43/1000\n",
            "6/6 [==============================] - 1s 120ms/step - loss: 1.3636 - accuracy: 0.5699\n",
            "Epoch 44/1000\n",
            "6/6 [==============================] - 1s 118ms/step - loss: 1.3440 - accuracy: 0.5737\n",
            "Epoch 45/1000\n",
            "6/6 [==============================] - 1s 119ms/step - loss: 1.3228 - accuracy: 0.5795\n",
            "Epoch 46/1000\n",
            "6/6 [==============================] - 1s 119ms/step - loss: 1.3088 - accuracy: 0.5855\n",
            "Epoch 47/1000\n",
            "6/6 [==============================] - 1s 119ms/step - loss: 1.2939 - accuracy: 0.5878\n",
            "Epoch 48/1000\n",
            "6/6 [==============================] - 1s 118ms/step - loss: 1.2859 - accuracy: 0.5853\n",
            "Epoch 49/1000\n",
            "6/6 [==============================] - 1s 120ms/step - loss: 1.2697 - accuracy: 0.5950\n",
            "Epoch 50/1000\n",
            "6/6 [==============================] - 1s 121ms/step - loss: 1.2514 - accuracy: 0.5973\n",
            "Epoch 51/1000\n",
            "6/6 [==============================] - 1s 118ms/step - loss: 1.2424 - accuracy: 0.5982\n",
            "Epoch 52/1000\n",
            "6/6 [==============================] - 1s 119ms/step - loss: 1.2328 - accuracy: 0.6003\n",
            "Epoch 53/1000\n",
            "6/6 [==============================] - 1s 120ms/step - loss: 1.2092 - accuracy: 0.6065\n",
            "Epoch 54/1000\n",
            "6/6 [==============================] - 1s 119ms/step - loss: 1.2073 - accuracy: 0.6062\n",
            "Epoch 55/1000\n",
            "6/6 [==============================] - 1s 119ms/step - loss: 1.1895 - accuracy: 0.6124\n",
            "Epoch 56/1000\n",
            "6/6 [==============================] - 1s 120ms/step - loss: 1.1734 - accuracy: 0.6149\n",
            "Epoch 57/1000\n",
            "6/6 [==============================] - 1s 121ms/step - loss: 1.1706 - accuracy: 0.6148\n",
            "Epoch 58/1000\n",
            "6/6 [==============================] - 1s 121ms/step - loss: 1.1540 - accuracy: 0.6196\n",
            "Epoch 59/1000\n",
            "6/6 [==============================] - 1s 119ms/step - loss: 1.1439 - accuracy: 0.6217\n",
            "Epoch 60/1000\n",
            "6/6 [==============================] - 1s 120ms/step - loss: 1.1440 - accuracy: 0.6199\n",
            "Epoch 61/1000\n",
            "6/6 [==============================] - 1s 120ms/step - loss: 1.1325 - accuracy: 0.6223\n",
            "Epoch 62/1000\n",
            "6/6 [==============================] - 1s 119ms/step - loss: 1.1354 - accuracy: 0.6234\n",
            "Epoch 63/1000\n",
            "6/6 [==============================] - 1s 122ms/step - loss: 1.1152 - accuracy: 0.6277\n",
            "Epoch 64/1000\n",
            "6/6 [==============================] - 1s 121ms/step - loss: 1.1201 - accuracy: 0.6246\n",
            "Epoch 65/1000\n",
            "6/6 [==============================] - 1s 120ms/step - loss: 1.1060 - accuracy: 0.6324\n",
            "Epoch 66/1000\n",
            "6/6 [==============================] - 1s 119ms/step - loss: 1.0983 - accuracy: 0.6300\n",
            "Epoch 67/1000\n",
            "6/6 [==============================] - 1s 120ms/step - loss: 1.0884 - accuracy: 0.6316\n",
            "Epoch 68/1000\n",
            "6/6 [==============================] - 1s 120ms/step - loss: 1.0752 - accuracy: 0.6360\n",
            "Epoch 69/1000\n",
            "6/6 [==============================] - 1s 119ms/step - loss: 1.0698 - accuracy: 0.6371\n",
            "Epoch 70/1000\n",
            "6/6 [==============================] - 1s 119ms/step - loss: 1.0704 - accuracy: 0.6364\n",
            "Epoch 71/1000\n",
            "6/6 [==============================] - 1s 119ms/step - loss: 1.0603 - accuracy: 0.6382\n",
            "Epoch 72/1000\n",
            "6/6 [==============================] - 1s 120ms/step - loss: 1.0564 - accuracy: 0.6375\n",
            "Epoch 73/1000\n",
            "6/6 [==============================] - 1s 119ms/step - loss: 1.0477 - accuracy: 0.6388\n",
            "Epoch 74/1000\n",
            "6/6 [==============================] - 1s 121ms/step - loss: 1.0506 - accuracy: 0.6382\n",
            "Epoch 75/1000\n",
            "6/6 [==============================] - 1s 121ms/step - loss: 1.0422 - accuracy: 0.6419\n",
            "Epoch 76/1000\n",
            "6/6 [==============================] - 1s 120ms/step - loss: 1.0399 - accuracy: 0.6416\n",
            "Epoch 77/1000\n",
            "6/6 [==============================] - 1s 120ms/step - loss: 1.0348 - accuracy: 0.6424\n",
            "Epoch 78/1000\n",
            "6/6 [==============================] - 1s 120ms/step - loss: 1.0392 - accuracy: 0.6401\n",
            "Epoch 79/1000\n",
            "6/6 [==============================] - 1s 120ms/step - loss: 1.0361 - accuracy: 0.6409\n",
            "Epoch 80/1000\n",
            "6/6 [==============================] - 1s 121ms/step - loss: 1.0340 - accuracy: 0.6386\n",
            "Epoch 81/1000\n",
            "6/6 [==============================] - 1s 121ms/step - loss: 1.0334 - accuracy: 0.6415\n",
            "Epoch 82/1000\n",
            "6/6 [==============================] - 1s 120ms/step - loss: 1.0273 - accuracy: 0.6421\n",
            "Epoch 83/1000\n",
            "6/6 [==============================] - 1s 119ms/step - loss: 1.0145 - accuracy: 0.6450\n",
            "Epoch 84/1000\n",
            "6/6 [==============================] - 1s 121ms/step - loss: 1.0160 - accuracy: 0.6446\n",
            "Epoch 85/1000\n",
            "6/6 [==============================] - 1s 121ms/step - loss: 1.0134 - accuracy: 0.6423\n",
            "Epoch 86/1000\n",
            "6/6 [==============================] - 1s 120ms/step - loss: 1.0138 - accuracy: 0.6425\n",
            "Epoch 87/1000\n",
            "6/6 [==============================] - 1s 121ms/step - loss: 1.0096 - accuracy: 0.6439\n",
            "Epoch 88/1000\n",
            "6/6 [==============================] - 1s 121ms/step - loss: 0.9993 - accuracy: 0.6476\n",
            "Epoch 89/1000\n",
            "6/6 [==============================] - 1s 121ms/step - loss: 1.0069 - accuracy: 0.6448\n",
            "Epoch 90/1000\n",
            "6/6 [==============================] - 1s 120ms/step - loss: 1.0053 - accuracy: 0.6444\n",
            "Epoch 91/1000\n",
            "6/6 [==============================] - 1s 121ms/step - loss: 0.9980 - accuracy: 0.6461\n",
            "Epoch 92/1000\n",
            "6/6 [==============================] - 1s 123ms/step - loss: 0.9905 - accuracy: 0.6497\n",
            "Epoch 93/1000\n",
            "6/6 [==============================] - 1s 120ms/step - loss: 1.0009 - accuracy: 0.6433\n",
            "Epoch 94/1000\n",
            "6/6 [==============================] - 1s 120ms/step - loss: 0.9957 - accuracy: 0.6452\n",
            "Epoch 95/1000\n",
            "6/6 [==============================] - 1s 121ms/step - loss: 0.9955 - accuracy: 0.6446\n",
            "Epoch 96/1000\n",
            "6/6 [==============================] - 1s 121ms/step - loss: 0.9910 - accuracy: 0.6469\n",
            "Epoch 97/1000\n",
            "6/6 [==============================] - 1s 121ms/step - loss: 0.9838 - accuracy: 0.6470\n",
            "Epoch 98/1000\n",
            "6/6 [==============================] - 1s 122ms/step - loss: 0.9804 - accuracy: 0.6483\n",
            "Epoch 99/1000\n",
            "6/6 [==============================] - 1s 123ms/step - loss: 0.9840 - accuracy: 0.6461\n",
            "Epoch 100/1000\n",
            "6/6 [==============================] - 1s 121ms/step - loss: 0.9838 - accuracy: 0.6481\n",
            "Epoch 101/1000\n",
            "6/6 [==============================] - 1s 122ms/step - loss: 0.9924 - accuracy: 0.6449\n",
            "Epoch 102/1000\n",
            "6/6 [==============================] - 1s 120ms/step - loss: 0.9838 - accuracy: 0.6448\n",
            "Epoch 103/1000\n",
            "6/6 [==============================] - 1s 120ms/step - loss: 0.9784 - accuracy: 0.6478\n",
            "Epoch 104/1000\n",
            "6/6 [==============================] - 1s 121ms/step - loss: 0.9830 - accuracy: 0.6448\n",
            "Epoch 105/1000\n",
            "6/6 [==============================] - 1s 122ms/step - loss: 0.9803 - accuracy: 0.6471\n",
            "Epoch 106/1000\n",
            "6/6 [==============================] - 1s 121ms/step - loss: 0.9796 - accuracy: 0.6476\n",
            "Epoch 107/1000\n",
            "6/6 [==============================] - 1s 121ms/step - loss: 0.9732 - accuracy: 0.6469\n",
            "Epoch 108/1000\n",
            "6/6 [==============================] - 1s 122ms/step - loss: 0.9720 - accuracy: 0.6490\n",
            "Epoch 109/1000\n",
            "6/6 [==============================] - 1s 123ms/step - loss: 0.9703 - accuracy: 0.6463\n",
            "Epoch 110/1000\n",
            "6/6 [==============================] - 1s 122ms/step - loss: 0.9687 - accuracy: 0.6463\n",
            "Epoch 111/1000\n",
            "6/6 [==============================] - 1s 121ms/step - loss: 0.9753 - accuracy: 0.6455\n",
            "Epoch 112/1000\n",
            "6/6 [==============================] - 1s 123ms/step - loss: 0.9683 - accuracy: 0.6458\n",
            "Epoch 113/1000\n",
            "6/6 [==============================] - 1s 122ms/step - loss: 0.9712 - accuracy: 0.6465\n",
            "Epoch 114/1000\n",
            "6/6 [==============================] - 1s 121ms/step - loss: 0.9674 - accuracy: 0.6476\n",
            "Epoch 115/1000\n",
            "6/6 [==============================] - 1s 123ms/step - loss: 0.9662 - accuracy: 0.6469\n",
            "Epoch 116/1000\n",
            "6/6 [==============================] - 1s 121ms/step - loss: 0.9675 - accuracy: 0.6456\n",
            "Epoch 117/1000\n",
            "6/6 [==============================] - 1s 122ms/step - loss: 0.9616 - accuracy: 0.6471\n",
            "Epoch 118/1000\n",
            "6/6 [==============================] - 1s 122ms/step - loss: 0.9713 - accuracy: 0.6448\n",
            "Epoch 119/1000\n",
            "6/6 [==============================] - 1s 122ms/step - loss: 0.9637 - accuracy: 0.6472\n",
            "Epoch 120/1000\n",
            "6/6 [==============================] - 1s 124ms/step - loss: 0.9635 - accuracy: 0.6494\n",
            "Epoch 121/1000\n",
            "6/6 [==============================] - 1s 124ms/step - loss: 0.9617 - accuracy: 0.6464\n",
            "Epoch 122/1000\n",
            "6/6 [==============================] - 1s 121ms/step - loss: 0.9588 - accuracy: 0.6478\n",
            "Epoch 123/1000\n",
            "6/6 [==============================] - 1s 122ms/step - loss: 0.9551 - accuracy: 0.6479\n",
            "Epoch 124/1000\n",
            "6/6 [==============================] - 1s 123ms/step - loss: 0.9642 - accuracy: 0.6475\n",
            "Epoch 125/1000\n",
            "6/6 [==============================] - 1s 125ms/step - loss: 0.9610 - accuracy: 0.6469\n",
            "Epoch 126/1000\n",
            "6/6 [==============================] - 1s 122ms/step - loss: 0.9575 - accuracy: 0.6483\n",
            "Epoch 127/1000\n",
            "6/6 [==============================] - 1s 123ms/step - loss: 0.9568 - accuracy: 0.6467\n",
            "Epoch 128/1000\n",
            "6/6 [==============================] - 1s 124ms/step - loss: 0.9499 - accuracy: 0.6497\n",
            "Epoch 129/1000\n",
            "6/6 [==============================] - 1s 124ms/step - loss: 0.9560 - accuracy: 0.6491\n",
            "\n",
            "Reached 64.56% accuracy, stopping training!\n"
          ],
          "name": "stdout"
        }
      ]
    },
    {
      "cell_type": "code",
      "metadata": {
        "colab": {
          "base_uri": "https://localhost:8080/",
          "height": 282
        },
        "id": "h2ikKjBD8JzS",
        "outputId": "bc9085a8-7221-4442-e2b6-5aadb67a345c"
      },
      "source": [
        "plt.plot(history_male.history['accuracy'])"
      ],
      "execution_count": 27,
      "outputs": [
        {
          "output_type": "execute_result",
          "data": {
            "text/plain": [
              "[<matplotlib.lines.Line2D at 0x7f3c6f7b80d0>]"
            ]
          },
          "metadata": {
            "tags": []
          },
          "execution_count": 27
        },
        {
          "output_type": "display_data",
          "data": {
            "image/png": "[encoded data removed]",
            "text/plain": [
              "<Figure size 432x288 with 1 Axes>"
            ]
          },
          "metadata": {
            "tags": [],
            "needs_background": "light"
          }
        }
      ]
    },
    {
      "cell_type": "code",
      "metadata": {
        "colab": {
          "base_uri": "https://localhost:8080/",
          "height": 282
        },
        "id": "E-3tI0JbVZN7",
        "outputId": "d79f2955-093a-4e69-f93d-5017918d40bd"
      },
      "source": [
        "plt.plot(history_male.history['loss'])"
      ],
      "execution_count": 28,
      "outputs": [
        {
          "output_type": "execute_result",
          "data": {
            "text/plain": [
              "[<matplotlib.lines.Line2D at 0x7f3c6f7b8410>]"
            ]
          },
          "metadata": {
            "tags": []
          },
          "execution_count": 28
        },
        {
          "output_type": "display_data",
          "data": {
            "image/png": "[encoded data removed]",
            "text/plain": [
              "<Figure size 432x288 with 1 Axes>"
            ]
          },
          "metadata": {
            "tags": [],
            "needs_background": "light"
          }
        }
      ]
    },
    {
      "cell_type": "code",
      "metadata": {
        "id": "izgOJkBI_YUp"
      },
      "source": [
        ""
      ],
      "execution_count": 28,
      "outputs": []
    },
    {
      "cell_type": "markdown",
      "metadata": {
        "id": "TErb41qa_bJY"
      },
      "source": [
        "##Apply each step to female names"
      ]
    },
    {
      "cell_type": "code",
      "metadata": {
        "id": "MqNORz06GpNU"
      },
      "source": [
        "X_female, Y_female = input_f_names[:,:-1], input_f_names[:,-1]"
      ],
      "execution_count": 29,
      "outputs": []
    },
    {
      "cell_type": "code",
      "metadata": {
        "colab": {
          "base_uri": "https://localhost:8080/"
        },
        "id": "z5estCCzGpXL",
        "outputId": "85fd5152-b4bb-4227-a3ab-1a6d0a7d8f97"
      },
      "source": [
        "X_female.shape"
      ],
      "execution_count": 30,
      "outputs": [
        {
          "output_type": "execute_result",
          "data": {
            "text/plain": [
              "(46500, 13)"
            ]
          },
          "metadata": {
            "tags": []
          },
          "execution_count": 30
        }
      ]
    },
    {
      "cell_type": "code",
      "metadata": {
        "colab": {
          "base_uri": "https://localhost:8080/"
        },
        "id": "mhSfxaFpGphK",
        "outputId": "cdc43fa5-ebca-4991-efc3-f1447b103c24"
      },
      "source": [
        "Y_female.shape"
      ],
      "execution_count": 31,
      "outputs": [
        {
          "output_type": "execute_result",
          "data": {
            "text/plain": [
              "(46500,)"
            ]
          },
          "metadata": {
            "tags": []
          },
          "execution_count": 31
        }
      ]
    },
    {
      "cell_type": "code",
      "metadata": {
        "colab": {
          "base_uri": "https://localhost:8080/"
        },
        "id": "NApYhSiEG1ex",
        "outputId": "8a7cfd7f-180c-4995-b3ab-150b3bd5f0c7"
      },
      "source": [
        "Y_female = ku.to_categorical(Y_female, num_classes=vocab_size)\n",
        "Y_female.shape"
      ],
      "execution_count": 32,
      "outputs": [
        {
          "output_type": "execute_result",
          "data": {
            "text/plain": [
              "(46500, 33)"
            ]
          },
          "metadata": {
            "tags": []
          },
          "execution_count": 32
        }
      ]
    },
    {
      "cell_type": "code",
      "metadata": {
        "colab": {
          "base_uri": "https://localhost:8080/"
        },
        "id": "v3hznPHlIOMk",
        "outputId": "57604209-9487-455f-90e2-23c1b8c28b09"
      },
      "source": [
        "model_female = Sequential([\n",
        "                    Embedding(vocab_size, 128, input_length = max_m_name_len - 1),\n",
        "                    \n",
        "                    Bidirectional(LSTM(150)),\n",
        "                    \n",
        "                    Dense(128, activation='relu'),\n",
        "                    Dense(64, activation='relu'),\n",
        "                    \n",
        "                    Dense(vocab_size, activation='softmax')\n",
        "])\n",
        "\n",
        "model_female.compile(loss='categorical_crossentropy', optimizer= Adam(learning_rate=0.01, decay = 0.001), metrics=['accuracy'])\n",
        "model_female.summary()\n"
      ],
      "execution_count": 33,
      "outputs": [
        {
          "output_type": "stream",
          "text": [
            "Model: \"sequential_1\"\n",
            "_________________________________________________________________\n",
            "Layer (type)                 Output Shape              Param #   \n",
            "=================================================================\n",
            "embedding_1 (Embedding)      (None, 13, 128)           4224      \n",
            "_________________________________________________________________\n",
            "bidirectional_1 (Bidirection (None, 300)               334800    \n",
            "_________________________________________________________________\n",
            "dense_3 (Dense)              (None, 128)               38528     \n",
            "_________________________________________________________________\n",
            "dense_4 (Dense)              (None, 64)                8256      \n",
            "_________________________________________________________________\n",
            "dense_5 (Dense)              (None, 33)                2145      \n",
            "=================================================================\n",
            "Total params: 387,953\n",
            "Trainable params: 387,953\n",
            "Non-trainable params: 0\n",
            "_________________________________________________________________\n"
          ],
          "name": "stdout"
        }
      ]
    },
    {
      "cell_type": "code",
      "metadata": {
        "id": "GIFgWQ56q8Z3"
      },
      "source": [
        "class femaleCallback(tf.keras.callbacks.Callback): \n",
        "    def on_epoch_end(self, epoch, logs={}): \n",
        "        if logs.get('accuracy') > 0.665:   \n",
        "          print(\"\\nReached %2.2f%% accuracy, stopping training!\" %(logs.get('accuracy')*100))   \n",
        "          self.model.stop_training = True\n",
        "          \n",
        "femaleCallback = femaleCallback()"
      ],
      "execution_count": 34,
      "outputs": []
    },
    {
      "cell_type": "code",
      "metadata": {
        "colab": {
          "base_uri": "https://localhost:8080/"
        },
        "id": "26w1DJHuHpTY",
        "outputId": "e5e4c7ab-76a8-4d2d-dfcf-fa89ae681e3d"
      },
      "source": [
        "history_female = model_female.fit(X_female, Y_female, epochs=1000, batch_size = 10000, verbose=1, callbacks = [femaleCallback])"
      ],
      "execution_count": 35,
      "outputs": [
        {
          "output_type": "stream",
          "text": [
            "Epoch 1/1000\n",
            "5/5 [==============================] - 3s 124ms/step - loss: 3.5971 - accuracy: 0.0815\n",
            "Epoch 2/1000\n",
            "5/5 [==============================] - 1s 120ms/step - loss: 3.1964 - accuracy: 0.1522\n",
            "Epoch 3/1000\n",
            "5/5 [==============================] - 1s 122ms/step - loss: 2.9431 - accuracy: 0.2189\n",
            "Epoch 4/1000\n",
            "5/5 [==============================] - 1s 122ms/step - loss: 2.7993 - accuracy: 0.2274\n",
            "Epoch 5/1000\n",
            "5/5 [==============================] - 1s 121ms/step - loss: 2.6937 - accuracy: 0.2452\n",
            "Epoch 6/1000\n",
            "5/5 [==============================] - 1s 122ms/step - loss: 2.5733 - accuracy: 0.2743\n",
            "Epoch 7/1000\n",
            "5/5 [==============================] - 1s 124ms/step - loss: 2.3965 - accuracy: 0.3010\n",
            "Epoch 8/1000\n",
            "5/5 [==============================] - 1s 123ms/step - loss: 2.2302 - accuracy: 0.3381\n",
            "Epoch 9/1000\n",
            "5/5 [==============================] - 1s 121ms/step - loss: 2.1260 - accuracy: 0.3654\n",
            "Epoch 10/1000\n",
            "5/5 [==============================] - 1s 123ms/step - loss: 2.0648 - accuracy: 0.3831\n",
            "Epoch 11/1000\n",
            "5/5 [==============================] - 1s 122ms/step - loss: 2.0045 - accuracy: 0.3939\n",
            "Epoch 12/1000\n",
            "5/5 [==============================] - 1s 123ms/step - loss: 1.9688 - accuracy: 0.4054\n",
            "Epoch 13/1000\n",
            "5/5 [==============================] - 1s 123ms/step - loss: 1.9399 - accuracy: 0.4122\n",
            "Epoch 14/1000\n",
            "5/5 [==============================] - 1s 122ms/step - loss: 1.8958 - accuracy: 0.4238\n",
            "Epoch 15/1000\n",
            "5/5 [==============================] - 1s 125ms/step - loss: 1.8737 - accuracy: 0.4288\n",
            "Epoch 16/1000\n",
            "5/5 [==============================] - 1s 123ms/step - loss: 1.8412 - accuracy: 0.4377\n",
            "Epoch 17/1000\n",
            "5/5 [==============================] - 1s 122ms/step - loss: 1.8172 - accuracy: 0.4461\n",
            "Epoch 18/1000\n",
            "5/5 [==============================] - 1s 124ms/step - loss: 1.8011 - accuracy: 0.4479\n",
            "Epoch 19/1000\n",
            "5/5 [==============================] - 1s 124ms/step - loss: 1.7811 - accuracy: 0.4545\n",
            "Epoch 20/1000\n",
            "5/5 [==============================] - 1s 125ms/step - loss: 1.7563 - accuracy: 0.4615\n",
            "Epoch 21/1000\n",
            "5/5 [==============================] - 1s 123ms/step - loss: 1.7482 - accuracy: 0.4621\n",
            "Epoch 22/1000\n",
            "5/5 [==============================] - 1s 123ms/step - loss: 1.7168 - accuracy: 0.4721\n",
            "Epoch 23/1000\n",
            "5/5 [==============================] - 1s 123ms/step - loss: 1.7019 - accuracy: 0.4760\n",
            "Epoch 24/1000\n",
            "5/5 [==============================] - 1s 124ms/step - loss: 1.6815 - accuracy: 0.4813\n",
            "Epoch 25/1000\n",
            "5/5 [==============================] - 1s 124ms/step - loss: 1.6579 - accuracy: 0.4846\n",
            "Epoch 26/1000\n",
            "5/5 [==============================] - 1s 123ms/step - loss: 1.6442 - accuracy: 0.4877\n",
            "Epoch 27/1000\n",
            "5/5 [==============================] - 1s 122ms/step - loss: 1.6255 - accuracy: 0.4956\n",
            "Epoch 28/1000\n",
            "5/5 [==============================] - 1s 123ms/step - loss: 1.6086 - accuracy: 0.5014\n",
            "Epoch 29/1000\n",
            "5/5 [==============================] - 1s 126ms/step - loss: 1.5889 - accuracy: 0.5062\n",
            "Epoch 30/1000\n",
            "5/5 [==============================] - 1s 123ms/step - loss: 1.5628 - accuracy: 0.5119\n",
            "Epoch 31/1000\n",
            "5/5 [==============================] - 1s 122ms/step - loss: 1.5575 - accuracy: 0.5159\n",
            "Epoch 32/1000\n",
            "5/5 [==============================] - 1s 125ms/step - loss: 1.5354 - accuracy: 0.5204\n",
            "Epoch 33/1000\n",
            "5/5 [==============================] - 1s 126ms/step - loss: 1.5245 - accuracy: 0.5264\n",
            "Epoch 34/1000\n",
            "5/5 [==============================] - 1s 126ms/step - loss: 1.5120 - accuracy: 0.5265\n",
            "Epoch 35/1000\n",
            "5/5 [==============================] - 1s 125ms/step - loss: 1.4919 - accuracy: 0.5340\n",
            "Epoch 36/1000\n",
            "5/5 [==============================] - 1s 123ms/step - loss: 1.4868 - accuracy: 0.5361\n",
            "Epoch 37/1000\n",
            "5/5 [==============================] - 1s 122ms/step - loss: 1.4478 - accuracy: 0.5481\n",
            "Epoch 38/1000\n",
            "5/5 [==============================] - 1s 124ms/step - loss: 1.4333 - accuracy: 0.5488\n",
            "Epoch 39/1000\n",
            "5/5 [==============================] - 1s 124ms/step - loss: 1.4139 - accuracy: 0.5561\n",
            "Epoch 40/1000\n",
            "5/5 [==============================] - 1s 124ms/step - loss: 1.3982 - accuracy: 0.5583\n",
            "Epoch 41/1000\n",
            "5/5 [==============================] - 1s 124ms/step - loss: 1.3836 - accuracy: 0.5621\n",
            "Epoch 42/1000\n",
            "5/5 [==============================] - 1s 125ms/step - loss: 1.3654 - accuracy: 0.5692\n",
            "Epoch 43/1000\n",
            "5/5 [==============================] - 1s 124ms/step - loss: 1.3456 - accuracy: 0.5733\n",
            "Epoch 44/1000\n",
            "5/5 [==============================] - 1s 123ms/step - loss: 1.3245 - accuracy: 0.5800\n",
            "Epoch 45/1000\n",
            "5/5 [==============================] - 1s 124ms/step - loss: 1.3030 - accuracy: 0.5837\n",
            "Epoch 46/1000\n",
            "5/5 [==============================] - 1s 125ms/step - loss: 1.3034 - accuracy: 0.5821\n",
            "Epoch 47/1000\n",
            "5/5 [==============================] - 1s 124ms/step - loss: 1.2841 - accuracy: 0.5859\n",
            "Epoch 48/1000\n",
            "5/5 [==============================] - 1s 123ms/step - loss: 1.2647 - accuracy: 0.5935\n",
            "Epoch 49/1000\n",
            "5/5 [==============================] - 1s 123ms/step - loss: 1.2474 - accuracy: 0.6005\n",
            "Epoch 50/1000\n",
            "5/5 [==============================] - 1s 125ms/step - loss: 1.2333 - accuracy: 0.6022\n",
            "Epoch 51/1000\n",
            "5/5 [==============================] - 1s 124ms/step - loss: 1.2241 - accuracy: 0.6037\n",
            "Epoch 52/1000\n",
            "5/5 [==============================] - 1s 122ms/step - loss: 1.2060 - accuracy: 0.6100\n",
            "Epoch 53/1000\n",
            "5/5 [==============================] - 1s 125ms/step - loss: 1.1938 - accuracy: 0.6112\n",
            "Epoch 54/1000\n",
            "5/5 [==============================] - 1s 126ms/step - loss: 1.1802 - accuracy: 0.6161\n",
            "Epoch 55/1000\n",
            "5/5 [==============================] - 1s 124ms/step - loss: 1.1551 - accuracy: 0.6219\n",
            "Epoch 56/1000\n",
            "5/5 [==============================] - 1s 126ms/step - loss: 1.1505 - accuracy: 0.6215\n",
            "Epoch 57/1000\n",
            "5/5 [==============================] - 1s 123ms/step - loss: 1.1401 - accuracy: 0.6270\n",
            "Epoch 58/1000\n",
            "5/5 [==============================] - 1s 124ms/step - loss: 1.1331 - accuracy: 0.6244\n",
            "Epoch 59/1000\n",
            "5/5 [==============================] - 1s 125ms/step - loss: 1.1181 - accuracy: 0.6291\n",
            "Epoch 60/1000\n",
            "5/5 [==============================] - 1s 123ms/step - loss: 1.1130 - accuracy: 0.6323\n",
            "Epoch 61/1000\n",
            "5/5 [==============================] - 1s 124ms/step - loss: 1.0930 - accuracy: 0.6363\n",
            "Epoch 62/1000\n",
            "5/5 [==============================] - 1s 124ms/step - loss: 1.0819 - accuracy: 0.6367\n",
            "Epoch 63/1000\n",
            "5/5 [==============================] - 1s 125ms/step - loss: 1.0734 - accuracy: 0.6399\n",
            "Epoch 64/1000\n",
            "5/5 [==============================] - 1s 126ms/step - loss: 1.0746 - accuracy: 0.6382\n",
            "Epoch 65/1000\n",
            "5/5 [==============================] - 1s 125ms/step - loss: 1.0597 - accuracy: 0.6450\n",
            "Epoch 66/1000\n",
            "5/5 [==============================] - 1s 125ms/step - loss: 1.0465 - accuracy: 0.6473\n",
            "Epoch 67/1000\n",
            "5/5 [==============================] - 1s 124ms/step - loss: 1.0470 - accuracy: 0.6452\n",
            "Epoch 68/1000\n",
            "5/5 [==============================] - 1s 124ms/step - loss: 1.0344 - accuracy: 0.6480\n",
            "Epoch 69/1000\n",
            "5/5 [==============================] - 1s 124ms/step - loss: 1.0310 - accuracy: 0.6501\n",
            "Epoch 70/1000\n",
            "5/5 [==============================] - 1s 126ms/step - loss: 1.0251 - accuracy: 0.6493\n",
            "Epoch 71/1000\n",
            "5/5 [==============================] - 1s 124ms/step - loss: 1.0160 - accuracy: 0.6536\n",
            "Epoch 72/1000\n",
            "5/5 [==============================] - 1s 124ms/step - loss: 1.0151 - accuracy: 0.6504\n",
            "Epoch 73/1000\n",
            "5/5 [==============================] - 1s 124ms/step - loss: 1.0112 - accuracy: 0.6545\n",
            "Epoch 74/1000\n",
            "5/5 [==============================] - 1s 126ms/step - loss: 0.9942 - accuracy: 0.6569\n",
            "Epoch 75/1000\n",
            "5/5 [==============================] - 1s 126ms/step - loss: 0.9996 - accuracy: 0.6530\n",
            "Epoch 76/1000\n",
            "5/5 [==============================] - 1s 126ms/step - loss: 0.9958 - accuracy: 0.6528\n",
            "Epoch 77/1000\n",
            "5/5 [==============================] - 1s 126ms/step - loss: 0.9874 - accuracy: 0.6559\n",
            "Epoch 78/1000\n",
            "5/5 [==============================] - 1s 126ms/step - loss: 0.9702 - accuracy: 0.6609\n",
            "Epoch 79/1000\n",
            "5/5 [==============================] - 1s 126ms/step - loss: 0.9756 - accuracy: 0.6595\n",
            "Epoch 80/1000\n",
            "5/5 [==============================] - 1s 124ms/step - loss: 0.9705 - accuracy: 0.6606\n",
            "Epoch 81/1000\n",
            "5/5 [==============================] - 1s 125ms/step - loss: 0.9657 - accuracy: 0.6617\n",
            "Epoch 82/1000\n",
            "5/5 [==============================] - 1s 125ms/step - loss: 0.9661 - accuracy: 0.6592\n",
            "Epoch 83/1000\n",
            "5/5 [==============================] - 1s 126ms/step - loss: 0.9712 - accuracy: 0.6567\n",
            "Epoch 84/1000\n",
            "5/5 [==============================] - 1s 125ms/step - loss: 0.9624 - accuracy: 0.6590\n",
            "Epoch 85/1000\n",
            "5/5 [==============================] - 1s 124ms/step - loss: 0.9569 - accuracy: 0.6610\n",
            "Epoch 86/1000\n",
            "5/5 [==============================] - 1s 126ms/step - loss: 0.9555 - accuracy: 0.6597\n",
            "Epoch 87/1000\n",
            "5/5 [==============================] - 1s 128ms/step - loss: 0.9435 - accuracy: 0.6645\n",
            "Epoch 88/1000\n",
            "5/5 [==============================] - 1s 125ms/step - loss: 0.9535 - accuracy: 0.6588\n",
            "Epoch 89/1000\n",
            "5/5 [==============================] - 1s 126ms/step - loss: 0.9505 - accuracy: 0.6618\n",
            "Epoch 90/1000\n",
            "5/5 [==============================] - 1s 127ms/step - loss: 0.9354 - accuracy: 0.6652\n",
            "Epoch 91/1000\n",
            "5/5 [==============================] - 1s 127ms/step - loss: 0.9322 - accuracy: 0.6659\n",
            "Epoch 92/1000\n",
            "5/5 [==============================] - 1s 125ms/step - loss: 0.9345 - accuracy: 0.6630\n",
            "Epoch 93/1000\n",
            "5/5 [==============================] - 1s 125ms/step - loss: 0.9331 - accuracy: 0.6614\n",
            "Epoch 94/1000\n",
            "5/5 [==============================] - 1s 128ms/step - loss: 0.9244 - accuracy: 0.6667\n",
            "Epoch 95/1000\n",
            "5/5 [==============================] - 1s 125ms/step - loss: 0.9252 - accuracy: 0.6645\n",
            "Epoch 96/1000\n",
            "5/5 [==============================] - 1s 125ms/step - loss: 0.9275 - accuracy: 0.6627\n",
            "Epoch 97/1000\n",
            "5/5 [==============================] - 1s 125ms/step - loss: 0.9253 - accuracy: 0.6657\n",
            "Epoch 98/1000\n",
            "5/5 [==============================] - 1s 126ms/step - loss: 0.9239 - accuracy: 0.6661\n",
            "Epoch 99/1000\n",
            "5/5 [==============================] - 1s 126ms/step - loss: 0.9219 - accuracy: 0.6629\n",
            "Epoch 100/1000\n",
            "5/5 [==============================] - 1s 127ms/step - loss: 0.9166 - accuracy: 0.6659\n",
            "Epoch 101/1000\n",
            "5/5 [==============================] - 1s 126ms/step - loss: 0.9114 - accuracy: 0.6666\n",
            "Epoch 102/1000\n",
            "5/5 [==============================] - 1s 127ms/step - loss: 0.9209 - accuracy: 0.6624\n",
            "Epoch 103/1000\n",
            "5/5 [==============================] - 1s 126ms/step - loss: 0.9134 - accuracy: 0.6641\n",
            "Epoch 104/1000\n",
            "5/5 [==============================] - 1s 126ms/step - loss: 0.9127 - accuracy: 0.6654\n",
            "Epoch 105/1000\n",
            "5/5 [==============================] - 1s 127ms/step - loss: 0.9071 - accuracy: 0.6666\n",
            "Epoch 106/1000\n",
            "5/5 [==============================] - 1s 126ms/step - loss: 0.9136 - accuracy: 0.6632\n",
            "Epoch 107/1000\n",
            "5/5 [==============================] - 1s 128ms/step - loss: 0.9076 - accuracy: 0.6653\n",
            "Epoch 108/1000\n",
            "5/5 [==============================] - 1s 126ms/step - loss: 0.9074 - accuracy: 0.6656\n",
            "Epoch 109/1000\n",
            "5/5 [==============================] - 1s 126ms/step - loss: 0.8998 - accuracy: 0.6685\n",
            "Epoch 110/1000\n",
            "5/5 [==============================] - 1s 127ms/step - loss: 0.9004 - accuracy: 0.6658\n",
            "Epoch 111/1000\n",
            "5/5 [==============================] - 1s 127ms/step - loss: 0.9091 - accuracy: 0.6652\n",
            "Epoch 112/1000\n",
            "5/5 [==============================] - 1s 127ms/step - loss: 0.9048 - accuracy: 0.6664\n",
            "Epoch 113/1000\n",
            "5/5 [==============================] - 1s 127ms/step - loss: 0.9054 - accuracy: 0.6657\n",
            "Epoch 114/1000\n",
            "5/5 [==============================] - 1s 128ms/step - loss: 0.9049 - accuracy: 0.6644\n",
            "Epoch 115/1000\n",
            "5/5 [==============================] - 1s 126ms/step - loss: 0.8952 - accuracy: 0.6688\n",
            "Epoch 116/1000\n",
            "5/5 [==============================] - 1s 127ms/step - loss: 0.9002 - accuracy: 0.6640\n",
            "Epoch 117/1000\n",
            "5/5 [==============================] - 1s 130ms/step - loss: 0.8973 - accuracy: 0.6674\n",
            "Epoch 118/1000\n",
            "5/5 [==============================] - 1s 125ms/step - loss: 0.8959 - accuracy: 0.6687\n",
            "Epoch 119/1000\n",
            "5/5 [==============================] - 1s 127ms/step - loss: 0.9006 - accuracy: 0.6639\n",
            "Epoch 120/1000\n",
            "5/5 [==============================] - 1s 128ms/step - loss: 0.8935 - accuracy: 0.6646\n",
            "Epoch 121/1000\n",
            "5/5 [==============================] - 1s 126ms/step - loss: 0.8938 - accuracy: 0.6655\n",
            "Epoch 122/1000\n",
            "5/5 [==============================] - 1s 125ms/step - loss: 0.8924 - accuracy: 0.6680\n",
            "Epoch 123/1000\n",
            "5/5 [==============================] - 1s 127ms/step - loss: 0.8963 - accuracy: 0.6651\n",
            "Epoch 124/1000\n",
            "5/5 [==============================] - 1s 127ms/step - loss: 0.8928 - accuracy: 0.6665\n",
            "Epoch 125/1000\n",
            "5/5 [==============================] - 1s 126ms/step - loss: 0.8905 - accuracy: 0.6658\n",
            "Epoch 126/1000\n",
            "5/5 [==============================] - 1s 126ms/step - loss: 0.8828 - accuracy: 0.6694\n",
            "Epoch 127/1000\n",
            "5/5 [==============================] - 1s 126ms/step - loss: 0.8855 - accuracy: 0.6668\n",
            "Epoch 128/1000\n",
            "5/5 [==============================] - 1s 128ms/step - loss: 0.8851 - accuracy: 0.6662\n",
            "Epoch 129/1000\n",
            "5/5 [==============================] - 1s 127ms/step - loss: 0.8841 - accuracy: 0.6684\n",
            "\n",
            "Reached 66.51% accuracy, stopping training!\n"
          ],
          "name": "stdout"
        }
      ]
    },
    {
      "cell_type": "code",
      "metadata": {
        "colab": {
          "base_uri": "https://localhost:8080/",
          "height": 282
        },
        "id": "Y4t1Cr60K6J6",
        "outputId": "836b9f35-8552-45c2-9025-42df6860bb2c"
      },
      "source": [
        "plt.plot(history_female.history['accuracy'])"
      ],
      "execution_count": 36,
      "outputs": [
        {
          "output_type": "execute_result",
          "data": {
            "text/plain": [
              "[<matplotlib.lines.Line2D at 0x7f3c6df47910>]"
            ]
          },
          "metadata": {
            "tags": []
          },
          "execution_count": 36
        },
        {
          "output_type": "display_data",
          "data": {
            "image/png": "[encoded data removed]",
            "text/plain": [
              "<Figure size 432x288 with 1 Axes>"
            ]
          },
          "metadata": {
            "tags": [],
            "needs_background": "light"
          }
        }
      ]
    },
    {
      "cell_type": "code",
      "metadata": {
        "colab": {
          "base_uri": "https://localhost:8080/",
          "height": 282
        },
        "id": "9W0kbVY_K6iJ",
        "outputId": "e3099969-244b-4353-db00-a41491d25a53"
      },
      "source": [
        "plt.plot(history_female.history['loss'])"
      ],
      "execution_count": 37,
      "outputs": [
        {
          "output_type": "execute_result",
          "data": {
            "text/plain": [
              "[<matplotlib.lines.Line2D at 0x7f3c6deb8410>]"
            ]
          },
          "metadata": {
            "tags": []
          },
          "execution_count": 37
        },
        {
          "output_type": "display_data",
          "data": {
            "image/png": "[encoded data removed]",
            "text/plain": [
              "<Figure size 432x288 with 1 Axes>"
            ]
          },
          "metadata": {
            "tags": [],
            "needs_background": "light"
          }
        }
      ]
    },
    {
      "cell_type": "code",
      "metadata": {
        "id": "g5vaErFpN6HQ"
      },
      "source": [
        "def sample(model):\n",
        "\n",
        "  # Initiate list of indices with random number (letter), this is the list which will contain the list of indices of the characters to generate\n",
        "  first_letter = np.random.randint(1,33)\n",
        "\n",
        "  indices = [first_letter]\n",
        "  \n",
        "  # idx is the index of the one-hot vector x that is set to 1\n",
        "  # All other positions in x are zero.\n",
        "  # We will initialize idx to -1\n",
        "  idx = -1 \n",
        "  \n",
        "  # Loop over time-steps t. At each time-step:\n",
        "  # sample a character from a probability distribution \n",
        "  # and append its index (`idx`) to the list \"indices\". \n",
        "  # We'll stop if we reach 20 characters \n",
        "  # (which should be very unlikely with a well trained model).\n",
        "  # Setting the maximum number of characters helps with debugging and prevents infinite loops\n",
        "\n",
        "  \n",
        "  newline_character = char_to_ix['\\n']\n",
        "\n",
        "  counter = 0\n",
        "\n",
        "  # Azerbaijani names does not start with one of these letters\n",
        "  if ix_to_char[first_letter] != 'ı' and ix_to_char[first_letter] != 'ğ':\n",
        "    \n",
        "    while idx != newline_character and counter != 20:\n",
        "      token_list = pad_sequences([indices], maxlen=max_m_name_len-1, padding='pre')\n",
        "      predicted = model.predict(token_list)\n",
        "      idx = np.random.choice(range(vocab_size), p = predicted.ravel())\n",
        "      indices.append(idx)\n",
        "    name =''.join([ix_to_char[i] for i in indices[:-1]])\n",
        "    \n",
        "\n",
        "    return name"
      ],
      "execution_count": 38,
      "outputs": []
    },
    {
      "cell_type": "code",
      "metadata": {
        "id": "sIrTyA2pEOhf"
      },
      "source": [
        "def generate(model, iter_num = 30):\n",
        "\n",
        "\n",
        "  while iter_num>0:\n",
        "    name = sample(model)\n",
        "    if name != None:\n",
        "      if name not in m_names and name not in f_names:\n",
        "        iter_num -= 1\n",
        "        if name[0] == 'i':\n",
        "          print('İ' + name[1:])\n",
        "          \n",
        "        else:\n",
        "          print(name.capitalize())"
      ],
      "execution_count": 39,
      "outputs": []
    },
    {
      "cell_type": "code",
      "metadata": {
        "id": "ueQ4cGYGB8kD"
      },
      "source": [
        "import ipywidgets as widgets\n",
        "from IPython.display import display\n",
        "from IPython.display import clear_output"
      ],
      "execution_count": 40,
      "outputs": []
    },
    {
      "cell_type": "code",
      "metadata": {
        "id": "MuGzzFhgCnf3"
      },
      "source": [
        "# we will create widgets to make it better to visualize\n",
        "\n",
        "gender = widgets.Dropdown(options = [None, 'Male', 'Female'], description = 'Gender' )\n",
        "output = widgets.Output()\n",
        "\n",
        "number = widgets.BoundedFloatText(\n",
        "min=1, max=50, value=15, step=1, description = 'Number')\n",
        "\n",
        "def common(name, number):\n",
        "  \n",
        "  with output:\n",
        "    output.clear_output()\n",
        "\n",
        "    if name == 'Male':\n",
        "      generate(model_male, number)\n",
        "      \n",
        "\n",
        "    if name == 'Female':\n",
        "      generate(model_female, number)\n",
        "\n",
        "def name_eventhandler(change):\n",
        "    common(change.new, number.value)\n",
        "\n",
        "def number_eventhandler(change):\n",
        "    common(gender.value, change.new)\n",
        "\n",
        "\n",
        "gender.observe(name_eventhandler, names = 'value')\n",
        "number.observe(number_eventhandler, names = 'value')"
      ],
      "execution_count": 41,
      "outputs": []
    },
    {
      "cell_type": "markdown",
      "metadata": {
        "id": "SA8FifjL8Hst"
      },
      "source": [
        "#Generating New Names"
      ]
    },
    {
      "cell_type": "code",
      "metadata": {
        "colab": {
          "base_uri": "https://localhost:8080/",
          "height": 79,
          "referenced_widgets": [
            "d9e3a37d2c4c4f97b86d78e02d1173c2",
            "1ce2fb6eb28d42469573c9e142262ca5",
            "6c520ff9bafd410f9f8251360e7953e1",
            "04f2df6bf277493bb66333e71ef2cba9",
            "1b3e14ef49314b5b8fc5805bef71b5e7",
            "42b32988d833409d92c1fa64e5606f98",
            "d0d8b3833bbd42dcb4bdd8197f5866f0",
            "004fa6b5e95f46a4ae9a788b721ee8b9"
          ]
        },
        "id": "h8X1x6tHE-6E",
        "outputId": "850c71a4-7d57-4571-ad06-1482cf38e6d4"
      },
      "source": [
        "display(gender)\n",
        "display(number)\n",
        "\n",
        "display(output)"
      ],
      "execution_count": null,
      "outputs": [
        {
          "output_type": "display_data",
          "data": {
            "application/vnd.jupyter.widget-view+json": {
              "model_id": "d9e3a37d2c4c4f97b86d78e02d1173c2",
              "version_minor": 0,
              "version_major": 2
            },
            "text/plain": [
              "Dropdown(description='Gender', options=(None, 'Male', 'Female'), value=None)"
            ]
          },
          "metadata": {
            "tags": []
          }
        },
        {
          "output_type": "display_data",
          "data": {
            "application/vnd.jupyter.widget-view+json": {
              "model_id": "04f2df6bf277493bb66333e71ef2cba9",
              "version_minor": 0,
              "version_major": 2
            },
            "text/plain": [
              "BoundedFloatText(value=15.0, description='Number', max=50.0, min=1.0, step=1.0)"
            ]
          },
          "metadata": {
            "tags": []
          }
        },
        {
          "output_type": "display_data",
          "data": {
            "application/vnd.jupyter.widget-view+json": {
              "model_id": "d0d8b3833bbd42dcb4bdd8197f5866f0",
              "version_minor": 0,
              "version_major": 2
            },
            "text/plain": [
              "Output()"
            ]
          },
          "metadata": {
            "tags": []
          }
        }
      ]
    },
    {
      "cell_type": "code",
      "metadata": {
        "id": "Mu_3H1A8A-kl"
      },
      "source": [
        ""
      ],
      "execution_count": null,
      "outputs": []
    },
    {
      "cell_type": "code",
      "metadata": {
        "colab": {
          "base_uri": "https://localhost:8080/"
        },
        "id": "89naKUIP7w0f",
        "outputId": "41880af8-94c9-4ade-ae3c-5cedfc079c38"
      },
      "source": [
        "generate(model_male, 15)"
      ],
      "execution_count": 42,
      "outputs": [
        {
          "output_type": "stream",
          "text": [
            "Tuğbin\n",
            "İlam\n",
            "Sadrı\n",
            "Funar\n",
            "Həfərxan\n",
            "Okmatalı\n",
            "Yolseybək\n",
            "İsayət\n",
            "Fərxud\n",
            "Gevənt\n",
            "Gülmehdi\n",
            "Cürxan\n",
            "Uraxan\n",
            "Özərbala\n",
            "Cah\n"
          ],
          "name": "stdout"
        }
      ]
    },
    {
      "cell_type": "code",
      "metadata": {
        "colab": {
          "base_uri": "https://localhost:8080/"
        },
        "id": "d_COlvhl71ER",
        "outputId": "c2256af0-d098-4f7c-b6e6-0a52ec3f7b4d"
      },
      "source": [
        "generate(model_female, 15)"
      ],
      "execution_count": 43,
      "outputs": [
        {
          "output_type": "stream",
          "text": [
            "Seyən\n",
            "Vaslət\n",
            "Öhlanisə\n",
            "Ötginə\n",
            "İnjigözəl\n",
            "Teluşə\n",
            "Valisə\n",
            "Çalaqikə\n",
            "Lalasat\n",
            "Jalikə\n",
            "Xoşzər\n",
            "Casmə\n",
            "Üzalə\n",
            "Bullurxanım\n",
            "Örləxanım\n"
          ],
          "name": "stdout"
        }
      ]
    }
  ]
}