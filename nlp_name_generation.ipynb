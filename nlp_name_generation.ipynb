{
  "nbformat": 4,
  "nbformat_minor": 0,
  "metadata": {
    "coursera": {
      "course_slug": "nlp-sequence-models",
      "graded_item_id": "EG0F7",
      "launcher_item_id": "cxJXc"
    },
    "kernelspec": {
      "display_name": "Python 3",
      "language": "python",
      "name": "python3"
    },
    "language_info": {
      "codemirror_mode": {
        "name": "ipython",
        "version": 3
      },
      "file_extension": ".py",
      "mimetype": "text/x-python",
      "name": "python",
      "nbconvert_exporter": "python",
      "pygments_lexer": "ipython3",
      "version": "3.6.0"
    },
    "colab": {
      "name": "nlp-name-generation.ipynb",
      "provenance": [],
      "collapsed_sections": []
    },
    "accelerator": "GPU",
    "widgets": {
      "application/vnd.jupyter.widget-state+json": {
        "d9e3a37d2c4c4f97b86d78e02d1173c2": {
          "model_module": "@jupyter-widgets/controls",
          "model_name": "DropdownModel",
          "state": {
            "_options_labels": [
              "None",
              "Male",
              "Female"
            ],
            "_view_name": "DropdownView",
            "style": "IPY_MODEL_1ce2fb6eb28d42469573c9e142262ca5",
            "_dom_classes": [],
            "description": "Gender",
            "_model_name": "DropdownModel",
            "index": 2,
            "_view_module": "@jupyter-widgets/controls",
            "_model_module_version": "1.5.0",
            "_view_count": null,
            "disabled": false,
            "_view_module_version": "1.5.0",
            "description_tooltip": null,
            "_model_module": "@jupyter-widgets/controls",
            "layout": "IPY_MODEL_6c520ff9bafd410f9f8251360e7953e1"
          }
        },
        "1ce2fb6eb28d42469573c9e142262ca5": {
          "model_module": "@jupyter-widgets/controls",
          "model_name": "DescriptionStyleModel",
          "state": {
            "_view_name": "StyleView",
            "_model_name": "DescriptionStyleModel",
            "description_width": "",
            "_view_module": "@jupyter-widgets/base",
            "_model_module_version": "1.5.0",
            "_view_count": null,
            "_view_module_version": "1.2.0",
            "_model_module": "@jupyter-widgets/controls"
          }
        },
        "6c520ff9bafd410f9f8251360e7953e1": {
          "model_module": "@jupyter-widgets/base",
          "model_name": "LayoutModel",
          "state": {
            "_view_name": "LayoutView",
            "grid_template_rows": null,
            "right": null,
            "justify_content": null,
            "_view_module": "@jupyter-widgets/base",
            "overflow": null,
            "_model_module_version": "1.2.0",
            "_view_count": null,
            "flex_flow": null,
            "width": null,
            "min_width": null,
            "border": null,
            "align_items": null,
            "bottom": null,
            "_model_module": "@jupyter-widgets/base",
            "top": null,
            "grid_column": null,
            "overflow_y": null,
            "overflow_x": null,
            "grid_auto_flow": null,
            "grid_area": null,
            "grid_template_columns": null,
            "flex": null,
            "_model_name": "LayoutModel",
            "justify_items": null,
            "grid_row": null,
            "max_height": null,
            "align_content": null,
            "visibility": null,
            "align_self": null,
            "height": null,
            "min_height": null,
            "padding": null,
            "grid_auto_rows": null,
            "grid_gap": null,
            "max_width": null,
            "order": null,
            "_view_module_version": "1.2.0",
            "grid_template_areas": null,
            "object_position": null,
            "object_fit": null,
            "grid_auto_columns": null,
            "margin": null,
            "display": null,
            "left": null
          }
        },
        "04f2df6bf277493bb66333e71ef2cba9": {
          "model_module": "@jupyter-widgets/controls",
          "model_name": "BoundedFloatTextModel",
          "state": {
            "_view_name": "FloatTextView",
            "style": "IPY_MODEL_1b3e14ef49314b5b8fc5805bef71b5e7",
            "_dom_classes": [],
            "description": "Number",
            "_model_name": "BoundedFloatTextModel",
            "max": 50,
            "_view_module": "@jupyter-widgets/controls",
            "_model_module_version": "1.5.0",
            "value": 15,
            "_view_count": null,
            "disabled": false,
            "_view_module_version": "1.5.0",
            "min": 1,
            "continuous_update": false,
            "step": 1,
            "description_tooltip": null,
            "_model_module": "@jupyter-widgets/controls",
            "layout": "IPY_MODEL_42b32988d833409d92c1fa64e5606f98"
          }
        },
        "1b3e14ef49314b5b8fc5805bef71b5e7": {
          "model_module": "@jupyter-widgets/controls",
          "model_name": "DescriptionStyleModel",
          "state": {
            "_view_name": "StyleView",
            "_model_name": "DescriptionStyleModel",
            "description_width": "",
            "_view_module": "@jupyter-widgets/base",
            "_model_module_version": "1.5.0",
            "_view_count": null,
            "_view_module_version": "1.2.0",
            "_model_module": "@jupyter-widgets/controls"
          }
        },
        "42b32988d833409d92c1fa64e5606f98": {
          "model_module": "@jupyter-widgets/base",
          "model_name": "LayoutModel",
          "state": {
            "_view_name": "LayoutView",
            "grid_template_rows": null,
            "right": null,
            "justify_content": null,
            "_view_module": "@jupyter-widgets/base",
            "overflow": null,
            "_model_module_version": "1.2.0",
            "_view_count": null,
            "flex_flow": null,
            "width": null,
            "min_width": null,
            "border": null,
            "align_items": null,
            "bottom": null,
            "_model_module": "@jupyter-widgets/base",
            "top": null,
            "grid_column": null,
            "overflow_y": null,
            "overflow_x": null,
            "grid_auto_flow": null,
            "grid_area": null,
            "grid_template_columns": null,
            "flex": null,
            "_model_name": "LayoutModel",
            "justify_items": null,
            "grid_row": null,
            "max_height": null,
            "align_content": null,
            "visibility": null,
            "align_self": null,
            "height": null,
            "min_height": null,
            "padding": null,
            "grid_auto_rows": null,
            "grid_gap": null,
            "max_width": null,
            "order": null,
            "_view_module_version": "1.2.0",
            "grid_template_areas": null,
            "object_position": null,
            "object_fit": null,
            "grid_auto_columns": null,
            "margin": null,
            "display": null,
            "left": null
          }
        },
        "d0d8b3833bbd42dcb4bdd8197f5866f0": {
          "model_module": "@jupyter-widgets/output",
          "model_name": "OutputModel",
          "state": {
            "_view_name": "OutputView",
            "msg_id": "",
            "_dom_classes": [],
            "_model_name": "OutputModel",
            "outputs": [
              {
                "output_type": "stream",
                "metadata": {
                  "tags": []
                },
                "text": "Vafizə\n",
                "stream": "stdout"
              },
              {
                "output_type": "stream",
                "metadata": {
                  "tags": []
                },
                "text": "Ödəngül\n",
                "stream": "stdout"
              },
              {
                "output_type": "stream",
                "metadata": {
                  "tags": []
                },
                "text": "Kanilə\n",
                "stream": "stdout"
              },
              {
                "output_type": "stream",
                "metadata": {
                  "tags": []
                },
                "text": "Samixanım\n",
                "stream": "stdout"
              },
              {
                "output_type": "stream",
                "metadata": {
                  "tags": []
                },
                "text": "Əğlanə\n",
                "stream": "stdout"
              },
              {
                "output_type": "stream",
                "metadata": {
                  "tags": []
                },
                "text": "İxəlya\n",
                "stream": "stdout"
              },
              {
                "output_type": "stream",
                "metadata": {
                  "tags": []
                },
                "text": "Düyanə\n",
                "stream": "stdout"
              },
              {
                "output_type": "stream",
                "metadata": {
                  "tags": []
                },
                "text": "Calagül\n",
                "stream": "stdout"
              },
              {
                "output_type": "stream",
                "metadata": {
                  "tags": []
                },
                "text": "Urqad\n",
                "stream": "stdout"
              },
              {
                "output_type": "stream",
                "metadata": {
                  "tags": []
                },
                "text": "Oğtabxanım\n",
                "stream": "stdout"
              },
              {
                "output_type": "stream",
                "metadata": {
                  "tags": []
                },
                "text": "Östədər\n",
                "stream": "stdout"
              },
              {
                "output_type": "stream",
                "metadata": {
                  "tags": []
                },
                "text": "Hazəngül\n",
                "stream": "stdout"
              },
              {
                "output_type": "stream",
                "metadata": {
                  "tags": []
                },
                "text": "Guşəxatın\n",
                "stream": "stdout"
              },
              {
                "output_type": "stream",
                "metadata": {
                  "tags": []
                },
                "text": "Ostbəyim\n",
                "stream": "stdout"
              },
              {
                "output_type": "stream",
                "metadata": {
                  "tags": []
                },
                "text": "Edos\n",
                "stream": "stdout"
              }
            ],
            "_view_module": "@jupyter-widgets/output",
            "_model_module_version": "1.0.0",
            "_view_count": null,
            "_view_module_version": "1.0.0",
            "layout": "IPY_MODEL_004fa6b5e95f46a4ae9a788b721ee8b9",
            "_model_module": "@jupyter-widgets/output"
          }
        },
        "004fa6b5e95f46a4ae9a788b721ee8b9": {
          "model_module": "@jupyter-widgets/base",
          "model_name": "LayoutModel",
          "state": {
            "_view_name": "LayoutView",
            "grid_template_rows": null,
            "right": null,
            "justify_content": null,
            "_view_module": "@jupyter-widgets/base",
            "overflow": null,
            "_model_module_version": "1.2.0",
            "_view_count": null,
            "flex_flow": null,
            "width": null,
            "min_width": null,
            "border": null,
            "align_items": null,
            "bottom": null,
            "_model_module": "@jupyter-widgets/base",
            "top": null,
            "grid_column": null,
            "overflow_y": null,
            "overflow_x": null,
            "grid_auto_flow": null,
            "grid_area": null,
            "grid_template_columns": null,
            "flex": null,
            "_model_name": "LayoutModel",
            "justify_items": null,
            "grid_row": null,
            "max_height": null,
            "align_content": null,
            "visibility": null,
            "align_self": null,
            "height": null,
            "min_height": null,
            "padding": null,
            "grid_auto_rows": null,
            "grid_gap": null,
            "max_width": null,
            "order": null,
            "_view_module_version": "1.2.0",
            "grid_template_areas": null,
            "object_position": null,
            "object_fit": null,
            "grid_auto_columns": null,
            "margin": null,
            "display": null,
            "left": null
          }
        }
      }
    }
  },
  "cells": [
    {
      "cell_type": "code",
      "metadata": {
        "id": "MlRux_rKYi1z"
      },
      "source": [
        "import tensorflow as tf\n",
        "from tensorflow.keras.preprocessing.sequence import pad_sequences\n",
        "from tensorflow.keras.layers import Embedding, LSTM, Dense, Dropout, Bidirectional, Conv1D, MaxPooling1D\n",
        "from tensorflow.keras.models import Sequential\n",
        "from tensorflow.keras.optimizers import Adam\n",
        "import tensorflow.keras.utils as ku \n",
        "import numpy as np \n",
        "import matplotlib.pyplot as plt\n",
        "import ipywidgets as widgets\n",
        "from IPython.display import display"
      ],
      "execution_count": 26,
      "outputs": []
    },
    {
      "cell_type": "markdown",
      "metadata": {
        "id": "6F83uJOs-eco"
      },
      "source": [
        "#Data Collection"
      ]
    },
    {
      "cell_type": "code",
      "metadata": {
        "id": "NBmpAJi-Zxjq",
        "colab": {
          "base_uri": "https://localhost:8080/"
        },
        "outputId": "6ed48692-5578-4930-c35c-08d0e8c30b9a"
      },
      "source": [
        "# create vocabulary for training\n",
        "\n",
        "chars = ['\\n', 'a', 'b', 'c', 'ç', 'd', 'e', 'ə', 'f', 'g', 'ğ', 'h', 'x', 'ı',\n",
        "        'i', 'j', 'k', 'q', 'l', 'm', 'n', 'o', 'ö', 'p', 'r', 's', 'ş', 't', 'u', 'ü', 'v', 'y', 'z' ]\n",
        "chars = sorted(chars)\n",
        "print(chars)"
      ],
      "execution_count": 27,
      "outputs": [
        {
          "output_type": "stream",
          "text": [
            "['\\n', 'a', 'b', 'c', 'd', 'e', 'f', 'g', 'h', 'i', 'j', 'k', 'l', 'm', 'n', 'o', 'p', 'q', 'r', 's', 't', 'u', 'v', 'x', 'y', 'z', 'ç', 'ö', 'ü', 'ğ', 'ı', 'ş', 'ə']\n"
          ],
          "name": "stdout"
        }
      ]
    },
    {
      "cell_type": "code",
      "metadata": {
        "id": "t4NsR3agZ8-w",
        "colab": {
          "base_uri": "https://localhost:8080/"
        },
        "outputId": "01f3e5b9-986c-4af0-d26c-fb9a7a823ebf"
      },
      "source": [
        "vocab_size = len(chars)\n",
        "vocab_size"
      ],
      "execution_count": 28,
      "outputs": [
        {
          "output_type": "execute_result",
          "data": {
            "text/plain": [
              "33"
            ]
          },
          "metadata": {
            "tags": []
          },
          "execution_count": 28
        }
      ]
    },
    {
      "cell_type": "code",
      "metadata": {
        "id": "XgEiQIaNLzmz"
      },
      "source": [
        "# create mapping between letters and their indexes\n",
        "\n",
        "char_to_ix = { ch:i for i,ch in enumerate(sorted(chars)) }\n",
        "ix_to_char = { i:ch for i,ch in enumerate(sorted(chars)) }"
      ],
      "execution_count": 29,
      "outputs": []
    },
    {
      "cell_type": "code",
      "metadata": {
        "colab": {
          "base_uri": "https://localhost:8080/"
        },
        "id": "iMdNMuPI4NGC",
        "outputId": "9ebd9c0f-2dd0-4101-fbd4-80e923ad8024"
      },
      "source": [
        "ix_to_char"
      ],
      "execution_count": 30,
      "outputs": [
        {
          "output_type": "execute_result",
          "data": {
            "text/plain": [
              "{0: '\\n',\n",
              " 1: 'a',\n",
              " 2: 'b',\n",
              " 3: 'c',\n",
              " 4: 'd',\n",
              " 5: 'e',\n",
              " 6: 'f',\n",
              " 7: 'g',\n",
              " 8: 'h',\n",
              " 9: 'i',\n",
              " 10: 'j',\n",
              " 11: 'k',\n",
              " 12: 'l',\n",
              " 13: 'm',\n",
              " 14: 'n',\n",
              " 15: 'o',\n",
              " 16: 'p',\n",
              " 17: 'q',\n",
              " 18: 'r',\n",
              " 19: 's',\n",
              " 20: 't',\n",
              " 21: 'u',\n",
              " 22: 'v',\n",
              " 23: 'x',\n",
              " 24: 'y',\n",
              " 25: 'z',\n",
              " 26: 'ç',\n",
              " 27: 'ö',\n",
              " 28: 'ü',\n",
              " 29: 'ğ',\n",
              " 30: 'ı',\n",
              " 31: 'ş',\n",
              " 32: 'ə'}"
            ]
          },
          "metadata": {
            "tags": []
          },
          "execution_count": 30
        }
      ]
    },
    {
      "cell_type": "code",
      "metadata": {
        "colab": {
          "base_uri": "https://localhost:8080/"
        },
        "id": "VipK6A_PoN3A",
        "outputId": "77c64bd2-b3c1-435a-cc5d-0613cfea8255"
      },
      "source": [
        "with open('male_names.txt', 'r') as f:\n",
        "    m_names = f.read()\n",
        "m_names = m_names.split('\\n')\n",
        "m_names[:10]"
      ],
      "execution_count": 31,
      "outputs": [
        {
          "output_type": "execute_result",
          "data": {
            "text/plain": [
              "['aba',\n",
              " 'ababəy',\n",
              " 'abaçı',\n",
              " 'abaxan',\n",
              " 'abakar',\n",
              " 'abakər',\n",
              " 'abaqa',\n",
              " 'abas',\n",
              " 'abasağa',\n",
              " 'abasalı']"
            ]
          },
          "metadata": {
            "tags": []
          },
          "execution_count": 31
        }
      ]
    },
    {
      "cell_type": "code",
      "metadata": {
        "colab": {
          "base_uri": "https://localhost:8080/"
        },
        "id": "3InJoCGQ9p_J",
        "outputId": "64740f6d-af52-40e7-ea11-ae6d9eb0ac03"
      },
      "source": [
        "# add \\n to the end of each word to let know model when the word ends\n",
        "male_names = []\n",
        "\n",
        "for i in m_names:\n",
        "  male_names.append(i + '\\n')\n",
        "male_names[:10]"
      ],
      "execution_count": 32,
      "outputs": [
        {
          "output_type": "execute_result",
          "data": {
            "text/plain": [
              "['aba\\n',\n",
              " 'ababəy\\n',\n",
              " 'abaçı\\n',\n",
              " 'abaxan\\n',\n",
              " 'abakar\\n',\n",
              " 'abakər\\n',\n",
              " 'abaqa\\n',\n",
              " 'abas\\n',\n",
              " 'abasağa\\n',\n",
              " 'abasalı\\n']"
            ]
          },
          "metadata": {
            "tags": []
          },
          "execution_count": 32
        }
      ]
    },
    {
      "cell_type": "code",
      "metadata": {
        "colab": {
          "base_uri": "https://localhost:8080/"
        },
        "id": "dBo7k8LU5k-5",
        "outputId": "0912ef17-14e5-4088-c28e-782ecb248cd4"
      },
      "source": [
        "# convert letters to numbers\n",
        "male_names_indexed = []\n",
        "\n",
        "for i in male_names:\n",
        "    male_names_indexed.append([char_to_ix[j] for j in i])\n",
        "\n",
        "male_names_indexed[:9]"
      ],
      "execution_count": 33,
      "outputs": [
        {
          "output_type": "execute_result",
          "data": {
            "text/plain": [
              "[[1, 2, 1, 0],\n",
              " [1, 2, 1, 2, 32, 24, 0],\n",
              " [1, 2, 1, 26, 30, 0],\n",
              " [1, 2, 1, 23, 1, 14, 0],\n",
              " [1, 2, 1, 11, 1, 18, 0],\n",
              " [1, 2, 1, 11, 32, 18, 0],\n",
              " [1, 2, 1, 17, 1, 0],\n",
              " [1, 2, 1, 19, 0],\n",
              " [1, 2, 1, 19, 1, 29, 1, 0]]"
            ]
          },
          "metadata": {
            "tags": []
          },
          "execution_count": 33
        }
      ]
    },
    {
      "cell_type": "code",
      "metadata": {
        "colab": {
          "base_uri": "https://localhost:8080/"
        },
        "id": "s6d94LYov0V1",
        "outputId": "223f7a66-90bd-48be-89af-68fdf11969a2"
      },
      "source": [
        "# in order to have more training data and better model we will look at each part of the word as a seperate sequence  \n",
        "input_m_names = []\n",
        "\n",
        "for word in male_names_indexed:\n",
        "\tfor i in range(1, len(word)):\n",
        "\t\tsequence = word[:i+1]\n",
        "\t\tinput_m_names.append(sequence)\n",
        "\n",
        "input_m_names[:9]"
      ],
      "execution_count": 34,
      "outputs": [
        {
          "output_type": "execute_result",
          "data": {
            "text/plain": [
              "[[1, 2],\n",
              " [1, 2, 1],\n",
              " [1, 2, 1, 0],\n",
              " [1, 2],\n",
              " [1, 2, 1],\n",
              " [1, 2, 1, 2],\n",
              " [1, 2, 1, 2, 32],\n",
              " [1, 2, 1, 2, 32, 24],\n",
              " [1, 2, 1, 2, 32, 24, 0]]"
            ]
          },
          "metadata": {
            "tags": []
          },
          "execution_count": 34
        }
      ]
    },
    {
      "cell_type": "code",
      "metadata": {
        "colab": {
          "base_uri": "https://localhost:8080/"
        },
        "id": "Qgh8JzfFv9m5",
        "outputId": "4bcf90e4-92bc-418d-8097-7999c70c8455"
      },
      "source": [
        "# we need to find max length of the words to use in padding\n",
        "max_m_name_len = max([len(x) for x in input_m_names])\n",
        "max_m_name_len"
      ],
      "execution_count": 35,
      "outputs": [
        {
          "output_type": "execute_result",
          "data": {
            "text/plain": [
              "14"
            ]
          },
          "metadata": {
            "tags": []
          },
          "execution_count": 35
        }
      ]
    },
    {
      "cell_type": "code",
      "metadata": {
        "colab": {
          "base_uri": "https://localhost:8080/"
        },
        "id": "-kWQPA70v9wZ",
        "outputId": "4cc4e603-d415-4d76-fbe7-6cec96f6834f"
      },
      "source": [
        "# we will pad each word to have equal shape in dataset\n",
        "input_m_names = np.array(pad_sequences(input_m_names, maxlen=max_m_name_len, padding='pre'))\n",
        "input_m_names"
      ],
      "execution_count": 36,
      "outputs": [
        {
          "output_type": "execute_result",
          "data": {
            "text/plain": [
              "array([[ 0,  0,  0, ...,  0,  1,  2],\n",
              "       [ 0,  0,  0, ...,  1,  2,  1],\n",
              "       [ 0,  0,  0, ...,  2,  1,  0],\n",
              "       ...,\n",
              "       [ 0,  0,  0, ..., 28, 18,  1],\n",
              "       [ 0,  0,  0, ..., 18,  1,  2],\n",
              "       [ 0,  0,  0, ...,  1,  2,  0]], dtype=int32)"
            ]
          },
          "metadata": {
            "tags": []
          },
          "execution_count": 36
        }
      ]
    },
    {
      "cell_type": "markdown",
      "metadata": {
        "id": "3A5hKBC594y2"
      },
      "source": [
        "#Apply Everything to Female Names"
      ]
    },
    {
      "cell_type": "code",
      "metadata": {
        "colab": {
          "base_uri": "https://localhost:8080/"
        },
        "id": "BiS_kl03ZkDs",
        "outputId": "066d5d48-eba6-415c-aba9-aa2041cc5d7d"
      },
      "source": [
        "with open('female_names.txt', 'r') as f:\n",
        "    f_names = f.read()\n",
        "f_names = f_names.split('\\n')\n",
        "f_names[:10]"
      ],
      "execution_count": 37,
      "outputs": [
        {
          "output_type": "execute_result",
          "data": {
            "text/plain": [
              "['ababil',\n",
              " 'abadət',\n",
              " 'abagül',\n",
              " 'abaqay',\n",
              " 'abayət',\n",
              " 'abdəst',\n",
              " 'abgül',\n",
              " 'abhava',\n",
              " 'abhəyat',\n",
              " 'abxanım']"
            ]
          },
          "metadata": {
            "tags": []
          },
          "execution_count": 37
        }
      ]
    },
    {
      "cell_type": "code",
      "metadata": {
        "colab": {
          "base_uri": "https://localhost:8080/"
        },
        "id": "dd4U85pq-O5D",
        "outputId": "ff06d021-67b7-41f7-eb91-40b6281e51d1"
      },
      "source": [
        "female_names = []\n",
        "for i in f_names:\n",
        "  female_names.append(i + '\\n')\n",
        "female_names[:10]"
      ],
      "execution_count": 38,
      "outputs": [
        {
          "output_type": "execute_result",
          "data": {
            "text/plain": [
              "['ababil\\n',\n",
              " 'abadət\\n',\n",
              " 'abagül\\n',\n",
              " 'abaqay\\n',\n",
              " 'abayət\\n',\n",
              " 'abdəst\\n',\n",
              " 'abgül\\n',\n",
              " 'abhava\\n',\n",
              " 'abhəyat\\n',\n",
              " 'abxanım\\n']"
            ]
          },
          "metadata": {
            "tags": []
          },
          "execution_count": 38
        }
      ]
    },
    {
      "cell_type": "code",
      "metadata": {
        "colab": {
          "base_uri": "https://localhost:8080/"
        },
        "id": "Xeq1exApHDsl",
        "outputId": "2b673935-28c7-47b5-f90e-1c6a855e6e71"
      },
      "source": [
        "female_names_indexed = []\n",
        "\n",
        "for i in female_names:\n",
        "    female_names_indexed.append([char_to_ix[j] for j in i])\n",
        "\n",
        "female_names_indexed[:9]"
      ],
      "execution_count": 39,
      "outputs": [
        {
          "output_type": "execute_result",
          "data": {
            "text/plain": [
              "[[1, 2, 1, 2, 9, 12, 0],\n",
              " [1, 2, 1, 4, 32, 20, 0],\n",
              " [1, 2, 1, 7, 28, 12, 0],\n",
              " [1, 2, 1, 17, 1, 24, 0],\n",
              " [1, 2, 1, 24, 32, 20, 0],\n",
              " [1, 2, 4, 32, 19, 20, 0],\n",
              " [1, 2, 7, 28, 12, 0],\n",
              " [1, 2, 8, 1, 22, 1, 0],\n",
              " [1, 2, 8, 32, 24, 1, 20, 0]]"
            ]
          },
          "metadata": {
            "tags": []
          },
          "execution_count": 39
        }
      ]
    },
    {
      "cell_type": "code",
      "metadata": {
        "colab": {
          "base_uri": "https://localhost:8080/"
        },
        "id": "3DAu4ROWHUxK",
        "outputId": "ca7257bd-cafd-4f6d-d437-16a94a44fa19"
      },
      "source": [
        "input_f_names = []\n",
        "\n",
        "for word in female_names_indexed:\n",
        "\tfor i in range(1, len(word)):\n",
        "\t\tsequence = word[:i+1]\n",
        "\t\tinput_f_names.append(sequence)\n",
        "\n",
        "input_f_names[:9]"
      ],
      "execution_count": 40,
      "outputs": [
        {
          "output_type": "execute_result",
          "data": {
            "text/plain": [
              "[[1, 2],\n",
              " [1, 2, 1],\n",
              " [1, 2, 1, 2],\n",
              " [1, 2, 1, 2, 9],\n",
              " [1, 2, 1, 2, 9, 12],\n",
              " [1, 2, 1, 2, 9, 12, 0],\n",
              " [1, 2],\n",
              " [1, 2, 1],\n",
              " [1, 2, 1, 4]]"
            ]
          },
          "metadata": {
            "tags": []
          },
          "execution_count": 40
        }
      ]
    },
    {
      "cell_type": "code",
      "metadata": {
        "colab": {
          "base_uri": "https://localhost:8080/"
        },
        "id": "QZC7yUeKHkPv",
        "outputId": "ad334406-c27a-4f8e-b6b1-9f2c8a980582"
      },
      "source": [
        "max_f_name_len = max([len(x) for x in input_f_names])\n",
        "max_f_name_len"
      ],
      "execution_count": 41,
      "outputs": [
        {
          "output_type": "execute_result",
          "data": {
            "text/plain": [
              "14"
            ]
          },
          "metadata": {
            "tags": []
          },
          "execution_count": 41
        }
      ]
    },
    {
      "cell_type": "code",
      "metadata": {
        "colab": {
          "base_uri": "https://localhost:8080/"
        },
        "id": "QCE0r5P6H8nX",
        "outputId": "6b530dae-e644-4676-fc8e-296455435aa0"
      },
      "source": [
        "input_f_names = np.array(pad_sequences(input_f_names, maxlen=max_f_name_len, padding='pre'))\n",
        "input_f_names"
      ],
      "execution_count": 42,
      "outputs": [
        {
          "output_type": "execute_result",
          "data": {
            "text/plain": [
              "array([[ 0,  0,  0, ...,  0,  1,  2],\n",
              "       [ 0,  0,  0, ...,  1,  2,  1],\n",
              "       [ 0,  0,  0, ...,  2,  1,  2],\n",
              "       ...,\n",
              "       [ 0,  0,  0, ..., 13, 28, 18],\n",
              "       [ 0,  0,  0, ..., 28, 18, 32],\n",
              "       [ 0,  0,  0, ..., 18, 32,  0]], dtype=int32)"
            ]
          },
          "metadata": {
            "tags": []
          },
          "execution_count": 42
        }
      ]
    },
    {
      "cell_type": "code",
      "metadata": {
        "id": "eE8HwNZy-cmq"
      },
      "source": [
        ""
      ],
      "execution_count": 42,
      "outputs": []
    },
    {
      "cell_type": "markdown",
      "metadata": {
        "id": "2D8vYihH-4aO"
      },
      "source": [
        "#Training\n"
      ]
    },
    {
      "cell_type": "code",
      "metadata": {
        "id": "6XpppVNaxX-H"
      },
      "source": [
        "# create training set\n",
        "X_male, Y_male = input_m_names[:,:-1], input_m_names[:,-1]"
      ],
      "execution_count": 57,
      "outputs": []
    },
    {
      "cell_type": "code",
      "metadata": {
        "colab": {
          "base_uri": "https://localhost:8080/"
        },
        "id": "qlNEX0SS_Zhg",
        "outputId": "1fa77751-d48d-4086-8f8b-8faab92753ea"
      },
      "source": [
        "X_male.shape"
      ],
      "execution_count": 58,
      "outputs": [
        {
          "output_type": "execute_result",
          "data": {
            "text/plain": [
              "(55546, 13)"
            ]
          },
          "metadata": {
            "tags": []
          },
          "execution_count": 58
        }
      ]
    },
    {
      "cell_type": "code",
      "metadata": {
        "colab": {
          "base_uri": "https://localhost:8080/"
        },
        "id": "_cALVWVvwBSl",
        "outputId": "174324f4-292c-45f1-c97e-4ff608e69939"
      },
      "source": [
        "Y_male.shape"
      ],
      "execution_count": 59,
      "outputs": [
        {
          "output_type": "execute_result",
          "data": {
            "text/plain": [
              "(55546,)"
            ]
          },
          "metadata": {
            "tags": []
          },
          "execution_count": 59
        }
      ]
    },
    {
      "cell_type": "code",
      "metadata": {
        "colab": {
          "base_uri": "https://localhost:8080/"
        },
        "id": "atNsZqBKx8fU",
        "outputId": "b5eac948-c947-4185-a05a-f2181d9473da"
      },
      "source": [
        "Y_male = ku.to_categorical(Y_male, num_classes=vocab_size)\n",
        "Y_male.shape"
      ],
      "execution_count": 60,
      "outputs": [
        {
          "output_type": "execute_result",
          "data": {
            "text/plain": [
              "(55546, 33)"
            ]
          },
          "metadata": {
            "tags": []
          },
          "execution_count": 60
        }
      ]
    },
    {
      "cell_type": "code",
      "metadata": {
        "id": "3cCxstJ_bWsM"
      },
      "source": [
        "from tensorflow.keras.optimizers import Adam"
      ],
      "execution_count": 61,
      "outputs": []
    },
    {
      "cell_type": "code",
      "metadata": {
        "colab": {
          "base_uri": "https://localhost:8080/"
        },
        "id": "Mysdw9b9y3ip",
        "outputId": "d3d8f075-ddba-42ad-a0e8-53a58333be53"
      },
      "source": [
        "# we will use Bidirectional LSTM\n",
        "model_male = Sequential([\n",
        "                    Embedding(vocab_size, 128, input_length = max_m_name_len - 1),\n",
        "                    \n",
        "                    Bidirectional(LSTM(150)),\n",
        "                    \n",
        "                    Dense(128, activation='relu'),\n",
        "                    Dense(64, activation='relu'),\n",
        "                    \n",
        "                    Dense(vocab_size, activation='softmax')\n",
        "])\n",
        "\n",
        "model_male.compile(loss='categorical_crossentropy', optimizer= Adam(learning_rate=0.01, decay = 0.001), metrics=['accuracy'])\n",
        "model_male.summary()\n"
      ],
      "execution_count": 62,
      "outputs": [
        {
          "output_type": "stream",
          "text": [
            "Model: \"sequential_3\"\n",
            "_________________________________________________________________\n",
            "Layer (type)                 Output Shape              Param #   \n",
            "=================================================================\n",
            "embedding_3 (Embedding)      (None, 13, 128)           4224      \n",
            "_________________________________________________________________\n",
            "bidirectional_3 (Bidirection (None, 300)               334800    \n",
            "_________________________________________________________________\n",
            "dense_9 (Dense)              (None, 128)               38528     \n",
            "_________________________________________________________________\n",
            "dense_10 (Dense)             (None, 64)                8256      \n",
            "_________________________________________________________________\n",
            "dense_11 (Dense)             (None, 33)                2145      \n",
            "=================================================================\n",
            "Total params: 387,953\n",
            "Trainable params: 387,953\n",
            "Non-trainable params: 0\n",
            "_________________________________________________________________\n"
          ],
          "name": "stdout"
        }
      ]
    },
    {
      "cell_type": "code",
      "metadata": {
        "id": "3JRZFVZAmuuP"
      },
      "source": [
        "# running model for a long time overfits to training data and generates exact same names in the dataset, \n",
        "# so we will create callback for early stopping\n",
        "\n",
        "class maleCallback(tf.keras.callbacks.Callback): \n",
        "    def on_epoch_end(self, epoch, logs={}): \n",
        "        if logs.get('accuracy') > 0.645:   \n",
        "          print(\"\\nReached %2.2f%% accuracy, stopping training!\" %(logs.get('accuracy')*100))   \n",
        "          self.model.stop_training = True\n",
        "\n",
        "maleCallback = maleCallback()"
      ],
      "execution_count": 63,
      "outputs": []
    },
    {
      "cell_type": "code",
      "metadata": {
        "colab": {
          "base_uri": "https://localhost:8080/"
        },
        "id": "9FFOXfmW3H_X",
        "outputId": "46ab5877-e409-4183-b465-c634fb5b0abf"
      },
      "source": [
        "history_male = model_male.fit(X_male, Y_male, epochs = 1000, batch_size = 10000, verbose=1, callbacks= [maleCallback])"
      ],
      "execution_count": 64,
      "outputs": [
        {
          "output_type": "stream",
          "text": [
            "Epoch 1/1000\n",
            "6/6 [==============================] - 35s 133ms/step - loss: 3.5352 - accuracy: 0.0979\n",
            "Epoch 2/1000\n",
            "6/6 [==============================] - 1s 130ms/step - loss: 3.1227 - accuracy: 0.1348\n",
            "Epoch 3/1000\n",
            "6/6 [==============================] - 1s 129ms/step - loss: 2.8867 - accuracy: 0.2098\n",
            "Epoch 4/1000\n",
            "6/6 [==============================] - 1s 130ms/step - loss: 2.8213 - accuracy: 0.2231\n",
            "Epoch 5/1000\n",
            "6/6 [==============================] - 1s 130ms/step - loss: 2.7575 - accuracy: 0.2312\n",
            "Epoch 6/1000\n",
            "6/6 [==============================] - 1s 129ms/step - loss: 2.6715 - accuracy: 0.2365\n",
            "Epoch 7/1000\n",
            "6/6 [==============================] - 1s 134ms/step - loss: 2.4946 - accuracy: 0.2932\n",
            "Epoch 8/1000\n",
            "6/6 [==============================] - 1s 131ms/step - loss: 2.3551 - accuracy: 0.3077\n",
            "Epoch 9/1000\n",
            "6/6 [==============================] - 1s 132ms/step - loss: 2.2595 - accuracy: 0.3308\n",
            "Epoch 10/1000\n",
            "6/6 [==============================] - 1s 131ms/step - loss: 2.2007 - accuracy: 0.3389\n",
            "Epoch 11/1000\n",
            "6/6 [==============================] - 1s 132ms/step - loss: 2.1529 - accuracy: 0.3498\n",
            "Epoch 12/1000\n",
            "6/6 [==============================] - 1s 130ms/step - loss: 2.1149 - accuracy: 0.3655\n",
            "Epoch 13/1000\n",
            "6/6 [==============================] - 1s 131ms/step - loss: 2.0666 - accuracy: 0.3754\n",
            "Epoch 14/1000\n",
            "6/6 [==============================] - 1s 130ms/step - loss: 2.0268 - accuracy: 0.3891\n",
            "Epoch 15/1000\n",
            "6/6 [==============================] - 1s 133ms/step - loss: 1.9763 - accuracy: 0.4001\n",
            "Epoch 16/1000\n",
            "6/6 [==============================] - 1s 133ms/step - loss: 1.9428 - accuracy: 0.4098\n",
            "Epoch 17/1000\n",
            "6/6 [==============================] - 1s 132ms/step - loss: 1.9121 - accuracy: 0.4199\n",
            "Epoch 18/1000\n",
            "6/6 [==============================] - 1s 135ms/step - loss: 1.8796 - accuracy: 0.4311\n",
            "Epoch 19/1000\n",
            "6/6 [==============================] - 1s 133ms/step - loss: 1.8481 - accuracy: 0.4357\n",
            "Epoch 20/1000\n",
            "6/6 [==============================] - 1s 133ms/step - loss: 1.8089 - accuracy: 0.4491\n",
            "Epoch 21/1000\n",
            "6/6 [==============================] - 1s 136ms/step - loss: 1.7805 - accuracy: 0.4571\n",
            "Epoch 22/1000\n",
            "6/6 [==============================] - 1s 134ms/step - loss: 1.7505 - accuracy: 0.4648\n",
            "Epoch 23/1000\n",
            "6/6 [==============================] - 1s 134ms/step - loss: 1.7203 - accuracy: 0.4728\n",
            "Epoch 24/1000\n",
            "6/6 [==============================] - 1s 136ms/step - loss: 1.6918 - accuracy: 0.4820\n",
            "Epoch 25/1000\n",
            "6/6 [==============================] - 1s 136ms/step - loss: 1.6640 - accuracy: 0.4886\n",
            "Epoch 26/1000\n",
            "6/6 [==============================] - 1s 134ms/step - loss: 1.6407 - accuracy: 0.4953\n",
            "Epoch 27/1000\n",
            "6/6 [==============================] - 1s 135ms/step - loss: 1.6196 - accuracy: 0.5000\n",
            "Epoch 28/1000\n",
            "6/6 [==============================] - 1s 136ms/step - loss: 1.5867 - accuracy: 0.5114\n",
            "Epoch 29/1000\n",
            "6/6 [==============================] - 1s 135ms/step - loss: 1.5641 - accuracy: 0.5179\n",
            "Epoch 30/1000\n",
            "6/6 [==============================] - 1s 135ms/step - loss: 1.5433 - accuracy: 0.5203\n",
            "Epoch 31/1000\n",
            "6/6 [==============================] - 1s 136ms/step - loss: 1.5163 - accuracy: 0.5281\n",
            "Epoch 32/1000\n",
            "6/6 [==============================] - 1s 134ms/step - loss: 1.4924 - accuracy: 0.5359\n",
            "Epoch 33/1000\n",
            "6/6 [==============================] - 1s 135ms/step - loss: 1.4699 - accuracy: 0.5416\n",
            "Epoch 34/1000\n",
            "6/6 [==============================] - 1s 134ms/step - loss: 1.4438 - accuracy: 0.5486\n",
            "Epoch 35/1000\n",
            "6/6 [==============================] - 1s 137ms/step - loss: 1.4249 - accuracy: 0.5545\n",
            "Epoch 36/1000\n",
            "6/6 [==============================] - 1s 136ms/step - loss: 1.4003 - accuracy: 0.5590\n",
            "Epoch 37/1000\n",
            "6/6 [==============================] - 1s 136ms/step - loss: 1.3909 - accuracy: 0.5629\n",
            "Epoch 38/1000\n",
            "6/6 [==============================] - 1s 135ms/step - loss: 1.3720 - accuracy: 0.5682\n",
            "Epoch 39/1000\n",
            "6/6 [==============================] - 1s 136ms/step - loss: 1.3475 - accuracy: 0.5733\n",
            "Epoch 40/1000\n",
            "6/6 [==============================] - 1s 133ms/step - loss: 1.3364 - accuracy: 0.5744\n",
            "Epoch 41/1000\n",
            "6/6 [==============================] - 1s 135ms/step - loss: 1.3159 - accuracy: 0.5839\n",
            "Epoch 42/1000\n",
            "6/6 [==============================] - 1s 133ms/step - loss: 1.2986 - accuracy: 0.5845\n",
            "Epoch 43/1000\n",
            "6/6 [==============================] - 1s 132ms/step - loss: 1.2812 - accuracy: 0.5913\n",
            "Epoch 44/1000\n",
            "6/6 [==============================] - 1s 133ms/step - loss: 1.2579 - accuracy: 0.5972\n",
            "Epoch 45/1000\n",
            "6/6 [==============================] - 1s 133ms/step - loss: 1.2443 - accuracy: 0.6003\n",
            "Epoch 46/1000\n",
            "6/6 [==============================] - 1s 131ms/step - loss: 1.2305 - accuracy: 0.6008\n",
            "Epoch 47/1000\n",
            "6/6 [==============================] - 1s 132ms/step - loss: 1.2262 - accuracy: 0.6027\n",
            "Epoch 48/1000\n",
            "6/6 [==============================] - 1s 133ms/step - loss: 1.2048 - accuracy: 0.6082\n",
            "Epoch 49/1000\n",
            "6/6 [==============================] - 1s 132ms/step - loss: 1.1866 - accuracy: 0.6122\n",
            "Epoch 50/1000\n",
            "6/6 [==============================] - 1s 131ms/step - loss: 1.1795 - accuracy: 0.6130\n",
            "Epoch 51/1000\n",
            "6/6 [==============================] - 1s 130ms/step - loss: 1.1732 - accuracy: 0.6129\n",
            "Epoch 52/1000\n",
            "6/6 [==============================] - 1s 130ms/step - loss: 1.1595 - accuracy: 0.6184\n",
            "Epoch 53/1000\n",
            "6/6 [==============================] - 1s 130ms/step - loss: 1.1520 - accuracy: 0.6196\n",
            "Epoch 54/1000\n",
            "6/6 [==============================] - 1s 129ms/step - loss: 1.1403 - accuracy: 0.6250\n",
            "Epoch 55/1000\n",
            "6/6 [==============================] - 1s 129ms/step - loss: 1.1303 - accuracy: 0.6246\n",
            "Epoch 56/1000\n",
            "6/6 [==============================] - 1s 130ms/step - loss: 1.1284 - accuracy: 0.6231\n",
            "Epoch 57/1000\n",
            "6/6 [==============================] - 1s 129ms/step - loss: 1.1157 - accuracy: 0.6277\n",
            "Epoch 58/1000\n",
            "6/6 [==============================] - 1s 129ms/step - loss: 1.1100 - accuracy: 0.6287\n",
            "Epoch 59/1000\n",
            "6/6 [==============================] - 1s 130ms/step - loss: 1.1038 - accuracy: 0.6285\n",
            "Epoch 60/1000\n",
            "6/6 [==============================] - 1s 131ms/step - loss: 1.0923 - accuracy: 0.6314\n",
            "Epoch 61/1000\n",
            "6/6 [==============================] - 1s 129ms/step - loss: 1.0865 - accuracy: 0.6329\n",
            "Epoch 62/1000\n",
            "6/6 [==============================] - 1s 130ms/step - loss: 1.0806 - accuracy: 0.6332\n",
            "Epoch 63/1000\n",
            "6/6 [==============================] - 1s 129ms/step - loss: 1.0809 - accuracy: 0.6335\n",
            "Epoch 64/1000\n",
            "6/6 [==============================] - 1s 130ms/step - loss: 1.0665 - accuracy: 0.6371\n",
            "Epoch 65/1000\n",
            "6/6 [==============================] - 1s 130ms/step - loss: 1.0723 - accuracy: 0.6334\n",
            "Epoch 66/1000\n",
            "6/6 [==============================] - 1s 130ms/step - loss: 1.0551 - accuracy: 0.6397\n",
            "Epoch 67/1000\n",
            "6/6 [==============================] - 1s 129ms/step - loss: 1.0605 - accuracy: 0.6395\n",
            "Epoch 68/1000\n",
            "6/6 [==============================] - 1s 129ms/step - loss: 1.0470 - accuracy: 0.6393\n",
            "Epoch 69/1000\n",
            "6/6 [==============================] - 1s 130ms/step - loss: 1.0496 - accuracy: 0.6393\n",
            "Epoch 70/1000\n",
            "6/6 [==============================] - 1s 130ms/step - loss: 1.0468 - accuracy: 0.6396\n",
            "Epoch 71/1000\n",
            "6/6 [==============================] - 1s 130ms/step - loss: 1.0403 - accuracy: 0.6411\n",
            "Epoch 72/1000\n",
            "6/6 [==============================] - 1s 130ms/step - loss: 1.0379 - accuracy: 0.6399\n",
            "Epoch 73/1000\n",
            "6/6 [==============================] - 1s 130ms/step - loss: 1.0347 - accuracy: 0.6417\n",
            "Epoch 74/1000\n",
            "6/6 [==============================] - 1s 130ms/step - loss: 1.0261 - accuracy: 0.6443\n",
            "Epoch 75/1000\n",
            "6/6 [==============================] - 1s 129ms/step - loss: 1.0254 - accuracy: 0.6428\n",
            "Epoch 76/1000\n",
            "6/6 [==============================] - 1s 129ms/step - loss: 1.0223 - accuracy: 0.6437\n",
            "Epoch 77/1000\n",
            "6/6 [==============================] - 1s 130ms/step - loss: 1.0269 - accuracy: 0.6432\n",
            "Epoch 78/1000\n",
            "6/6 [==============================] - 1s 129ms/step - loss: 1.0209 - accuracy: 0.6423\n",
            "Epoch 79/1000\n",
            "6/6 [==============================] - 1s 130ms/step - loss: 1.0177 - accuracy: 0.6419\n",
            "Epoch 80/1000\n",
            "6/6 [==============================] - 1s 129ms/step - loss: 1.0129 - accuracy: 0.6425\n",
            "Epoch 81/1000\n",
            "6/6 [==============================] - 1s 130ms/step - loss: 1.0093 - accuracy: 0.6440\n",
            "Epoch 82/1000\n",
            "6/6 [==============================] - 1s 130ms/step - loss: 1.0052 - accuracy: 0.6452\n",
            "Epoch 83/1000\n",
            "6/6 [==============================] - 1s 130ms/step - loss: 1.0085 - accuracy: 0.6462\n",
            "Epoch 84/1000\n",
            "6/6 [==============================] - 1s 130ms/step - loss: 1.0084 - accuracy: 0.6430\n",
            "Epoch 85/1000\n",
            "6/6 [==============================] - 1s 129ms/step - loss: 0.9973 - accuracy: 0.6487\n",
            "Epoch 86/1000\n",
            "6/6 [==============================] - 1s 130ms/step - loss: 0.9951 - accuracy: 0.6458\n",
            "Epoch 87/1000\n",
            "6/6 [==============================] - 1s 129ms/step - loss: 1.0000 - accuracy: 0.6442\n",
            "Epoch 88/1000\n",
            "6/6 [==============================] - 1s 130ms/step - loss: 0.9982 - accuracy: 0.6422\n",
            "Epoch 89/1000\n",
            "6/6 [==============================] - 1s 129ms/step - loss: 0.9905 - accuracy: 0.6474\n",
            "Epoch 90/1000\n",
            "6/6 [==============================] - 1s 129ms/step - loss: 0.9934 - accuracy: 0.6472\n",
            "Epoch 91/1000\n",
            "6/6 [==============================] - 1s 129ms/step - loss: 0.9900 - accuracy: 0.6470\n",
            "Epoch 92/1000\n",
            "6/6 [==============================] - 1s 130ms/step - loss: 0.9865 - accuracy: 0.6454\n",
            "Epoch 93/1000\n",
            "6/6 [==============================] - 1s 131ms/step - loss: 0.9912 - accuracy: 0.6436\n",
            "Epoch 94/1000\n",
            "6/6 [==============================] - 1s 130ms/step - loss: 0.9823 - accuracy: 0.6467\n",
            "Epoch 95/1000\n",
            "6/6 [==============================] - 1s 129ms/step - loss: 0.9803 - accuracy: 0.6458\n",
            "Epoch 96/1000\n",
            "6/6 [==============================] - 1s 129ms/step - loss: 0.9799 - accuracy: 0.6487\n",
            "Epoch 97/1000\n",
            "6/6 [==============================] - 1s 130ms/step - loss: 0.9786 - accuracy: 0.6484\n",
            "Epoch 98/1000\n",
            "6/6 [==============================] - 1s 130ms/step - loss: 0.9796 - accuracy: 0.6462\n",
            "Epoch 99/1000\n",
            "6/6 [==============================] - 1s 128ms/step - loss: 0.9721 - accuracy: 0.6487\n",
            "Epoch 100/1000\n",
            "6/6 [==============================] - 1s 130ms/step - loss: 0.9755 - accuracy: 0.6463\n",
            "Epoch 101/1000\n",
            "6/6 [==============================] - 1s 130ms/step - loss: 0.9720 - accuracy: 0.6483\n",
            "Epoch 102/1000\n",
            "6/6 [==============================] - 1s 130ms/step - loss: 0.9733 - accuracy: 0.6466\n",
            "Epoch 103/1000\n",
            "6/6 [==============================] - 1s 130ms/step - loss: 0.9704 - accuracy: 0.6474\n",
            "Epoch 104/1000\n",
            "6/6 [==============================] - 1s 130ms/step - loss: 0.9713 - accuracy: 0.6483\n",
            "Epoch 105/1000\n",
            "6/6 [==============================] - 1s 129ms/step - loss: 0.9776 - accuracy: 0.6461\n",
            "Epoch 106/1000\n",
            "6/6 [==============================] - 1s 130ms/step - loss: 0.9686 - accuracy: 0.6482\n",
            "Epoch 107/1000\n",
            "6/6 [==============================] - 1s 130ms/step - loss: 0.9712 - accuracy: 0.6459\n",
            "Epoch 108/1000\n",
            "6/6 [==============================] - 1s 129ms/step - loss: 0.9672 - accuracy: 0.6469\n",
            "Epoch 109/1000\n",
            "6/6 [==============================] - 1s 131ms/step - loss: 0.9658 - accuracy: 0.6482\n",
            "Epoch 110/1000\n",
            "6/6 [==============================] - 1s 130ms/step - loss: 0.9624 - accuracy: 0.6487\n",
            "Epoch 111/1000\n",
            "6/6 [==============================] - 1s 130ms/step - loss: 0.9676 - accuracy: 0.6477\n",
            "Epoch 112/1000\n",
            "6/6 [==============================] - 1s 129ms/step - loss: 0.9638 - accuracy: 0.6468\n",
            "Epoch 113/1000\n",
            "6/6 [==============================] - 1s 132ms/step - loss: 0.9690 - accuracy: 0.6472\n",
            "Epoch 114/1000\n",
            "6/6 [==============================] - 1s 131ms/step - loss: 0.9635 - accuracy: 0.6467\n",
            "Epoch 115/1000\n",
            "6/6 [==============================] - 1s 132ms/step - loss: 0.9561 - accuracy: 0.6491\n",
            "Epoch 116/1000\n",
            "6/6 [==============================] - 1s 131ms/step - loss: 0.9639 - accuracy: 0.6450\n",
            "Epoch 117/1000\n",
            "6/6 [==============================] - 1s 133ms/step - loss: 0.9570 - accuracy: 0.6483\n",
            "Epoch 118/1000\n",
            "6/6 [==============================] - 1s 130ms/step - loss: 0.9597 - accuracy: 0.6467\n",
            "Epoch 119/1000\n",
            "6/6 [==============================] - 1s 131ms/step - loss: 0.9637 - accuracy: 0.6464\n",
            "\n",
            "Reached 64.57% accuracy, stopping training!\n"
          ],
          "name": "stdout"
        }
      ]
    },
    {
      "cell_type": "code",
      "metadata": {
        "colab": {
          "base_uri": "https://localhost:8080/",
          "height": 282
        },
        "id": "h2ikKjBD8JzS",
        "outputId": "fa9c3334-c306-412c-a3e5-0c9451be7d53"
      },
      "source": [
        "plt.plot(history_male.history['accuracy'])"
      ],
      "execution_count": 71,
      "outputs": [
        {
          "output_type": "execute_result",
          "data": {
            "text/plain": [
              "[<matplotlib.lines.Line2D at 0x7fb718044650>]"
            ]
          },
          "metadata": {
            "tags": []
          },
          "execution_count": 71
        },
        {
          "output_type": "display_data",
          "data": {
            "image/png": "[encoded data removed]",
            "text/plain": [
              "<Figure size 432x288 with 1 Axes>"
            ]
          },
          "metadata": {
            "tags": [],
            "needs_background": "light"
          }
        }
      ]
    },
    {
      "cell_type": "code",
      "metadata": {
        "colab": {
          "base_uri": "https://localhost:8080/",
          "height": 282
        },
        "id": "E-3tI0JbVZN7",
        "outputId": "eb2dee16-35e1-464d-c72b-803328e49b8a"
      },
      "source": [
        "plt.plot(history_male.history['loss'])"
      ],
      "execution_count": 72,
      "outputs": [
        {
          "output_type": "execute_result",
          "data": {
            "text/plain": [
              "[<matplotlib.lines.Line2D at 0x7fb715f240d0>]"
            ]
          },
          "metadata": {
            "tags": []
          },
          "execution_count": 72
        },
        {
          "output_type": "display_data",
          "data": {
            "image/png": "[encoded data removed]",
            "text/plain": [
              "<Figure size 432x288 with 1 Axes>"
            ]
          },
          "metadata": {
            "tags": [],
            "needs_background": "light"
          }
        }
      ]
    },
    {
      "cell_type": "code",
      "metadata": {
        "id": "izgOJkBI_YUp"
      },
      "source": [
        ""
      ],
      "execution_count": 64,
      "outputs": []
    },
    {
      "cell_type": "markdown",
      "metadata": {
        "id": "TErb41qa_bJY"
      },
      "source": [
        "##Apply each step to female names"
      ]
    },
    {
      "cell_type": "code",
      "metadata": {
        "id": "MqNORz06GpNU"
      },
      "source": [
        "X_female, Y_female = input_f_names[:,:-1], input_f_names[:,-1]"
      ],
      "execution_count": 73,
      "outputs": []
    },
    {
      "cell_type": "code",
      "metadata": {
        "colab": {
          "base_uri": "https://localhost:8080/"
        },
        "id": "z5estCCzGpXL",
        "outputId": "17d17273-3aa4-4ee2-e633-c0b03ed892db"
      },
      "source": [
        "X_female.shape"
      ],
      "execution_count": 74,
      "outputs": [
        {
          "output_type": "execute_result",
          "data": {
            "text/plain": [
              "(46500, 13)"
            ]
          },
          "metadata": {
            "tags": []
          },
          "execution_count": 74
        }
      ]
    },
    {
      "cell_type": "code",
      "metadata": {
        "colab": {
          "base_uri": "https://localhost:8080/"
        },
        "id": "mhSfxaFpGphK",
        "outputId": "5279f841-b952-493b-c9d5-09319585d41f"
      },
      "source": [
        "Y_female.shape"
      ],
      "execution_count": 75,
      "outputs": [
        {
          "output_type": "execute_result",
          "data": {
            "text/plain": [
              "(46500,)"
            ]
          },
          "metadata": {
            "tags": []
          },
          "execution_count": 75
        }
      ]
    },
    {
      "cell_type": "code",
      "metadata": {
        "colab": {
          "base_uri": "https://localhost:8080/"
        },
        "id": "NApYhSiEG1ex",
        "outputId": "ba7476da-edc8-4ffe-ba38-78c2c6307caf"
      },
      "source": [
        "Y_female = ku.to_categorical(Y_female, num_classes=vocab_size)\n",
        "Y_female.shape"
      ],
      "execution_count": 76,
      "outputs": [
        {
          "output_type": "execute_result",
          "data": {
            "text/plain": [
              "(46500, 33)"
            ]
          },
          "metadata": {
            "tags": []
          },
          "execution_count": 76
        }
      ]
    },
    {
      "cell_type": "code",
      "metadata": {
        "colab": {
          "base_uri": "https://localhost:8080/"
        },
        "id": "v3hznPHlIOMk",
        "outputId": "956cc7c9-d9f2-487a-f170-5ba3d9d72453"
      },
      "source": [
        "model_female = Sequential([\n",
        "                    Embedding(vocab_size, 128, input_length = max_m_name_len - 1),\n",
        "                    \n",
        "                    Bidirectional(LSTM(150)),\n",
        "                    \n",
        "                    Dense(128, activation='relu'),\n",
        "                    Dense(64, activation='relu'),\n",
        "                    \n",
        "                    Dense(vocab_size, activation='softmax')\n",
        "])\n",
        "\n",
        "model_female.compile(loss='categorical_crossentropy', optimizer= Adam(learning_rate=0.01, decay = 0.001), metrics=['accuracy'])\n",
        "model_female.summary()\n"
      ],
      "execution_count": 77,
      "outputs": [
        {
          "output_type": "stream",
          "text": [
            "Model: \"sequential_5\"\n",
            "_________________________________________________________________\n",
            "Layer (type)                 Output Shape              Param #   \n",
            "=================================================================\n",
            "embedding_5 (Embedding)      (None, 13, 128)           4224      \n",
            "_________________________________________________________________\n",
            "bidirectional_5 (Bidirection (None, 300)               334800    \n",
            "_________________________________________________________________\n",
            "dense_15 (Dense)             (None, 128)               38528     \n",
            "_________________________________________________________________\n",
            "dense_16 (Dense)             (None, 64)                8256      \n",
            "_________________________________________________________________\n",
            "dense_17 (Dense)             (None, 33)                2145      \n",
            "=================================================================\n",
            "Total params: 387,953\n",
            "Trainable params: 387,953\n",
            "Non-trainable params: 0\n",
            "_________________________________________________________________\n"
          ],
          "name": "stdout"
        }
      ]
    },
    {
      "cell_type": "code",
      "metadata": {
        "id": "GIFgWQ56q8Z3"
      },
      "source": [
        "class femaleCallback(tf.keras.callbacks.Callback): \n",
        "    def on_epoch_end(self, epoch, logs={}): \n",
        "        if logs.get('accuracy') > 0.665:   \n",
        "          print(\"\\nReached %2.2f%% accuracy, stopping training!\" %(logs.get('accuracy')*100))   \n",
        "          self.model.stop_training = True\n",
        "          \n",
        "femaleCallback = femaleCallback()"
      ],
      "execution_count": 78,
      "outputs": []
    },
    {
      "cell_type": "code",
      "metadata": {
        "colab": {
          "base_uri": "https://localhost:8080/"
        },
        "id": "26w1DJHuHpTY",
        "outputId": "14b29769-bd68-476c-bde3-f9d002c12afa"
      },
      "source": [
        "history_female = model_female.fit(X_female, Y_female, epochs=1000, batch_size = 10000, verbose=1, callbacks = [femaleCallback])"
      ],
      "execution_count": 79,
      "outputs": [
        {
          "output_type": "stream",
          "text": [
            "Epoch 1/1000\n",
            "5/5 [==============================] - 3s 129ms/step - loss: 3.5319 - accuracy: 0.0750\n",
            "Epoch 2/1000\n",
            "5/5 [==============================] - 1s 130ms/step - loss: 3.1461 - accuracy: 0.1651\n",
            "Epoch 3/1000\n",
            "5/5 [==============================] - 1s 131ms/step - loss: 2.9113 - accuracy: 0.2131\n",
            "Epoch 4/1000\n",
            "5/5 [==============================] - 1s 130ms/step - loss: 2.7634 - accuracy: 0.2364\n",
            "Epoch 5/1000\n",
            "5/5 [==============================] - 1s 130ms/step - loss: 2.6604 - accuracy: 0.2588\n",
            "Epoch 6/1000\n",
            "5/5 [==============================] - 1s 130ms/step - loss: 2.4740 - accuracy: 0.2842\n",
            "Epoch 7/1000\n",
            "5/5 [==============================] - 1s 131ms/step - loss: 2.2878 - accuracy: 0.3243\n",
            "Epoch 8/1000\n",
            "5/5 [==============================] - 1s 130ms/step - loss: 2.1828 - accuracy: 0.3443\n",
            "Epoch 9/1000\n",
            "5/5 [==============================] - 1s 132ms/step - loss: 2.1062 - accuracy: 0.3682\n",
            "Epoch 10/1000\n",
            "5/5 [==============================] - 1s 132ms/step - loss: 2.0369 - accuracy: 0.3922\n",
            "Epoch 11/1000\n",
            "5/5 [==============================] - 1s 130ms/step - loss: 1.9914 - accuracy: 0.4026\n",
            "Epoch 12/1000\n",
            "5/5 [==============================] - 1s 131ms/step - loss: 1.9470 - accuracy: 0.4133\n",
            "Epoch 13/1000\n",
            "5/5 [==============================] - 1s 131ms/step - loss: 1.9137 - accuracy: 0.4228\n",
            "Epoch 14/1000\n",
            "5/5 [==============================] - 1s 133ms/step - loss: 1.8769 - accuracy: 0.4311\n",
            "Epoch 15/1000\n",
            "5/5 [==============================] - 1s 130ms/step - loss: 1.8561 - accuracy: 0.4387\n",
            "Epoch 16/1000\n",
            "5/5 [==============================] - 1s 132ms/step - loss: 1.8338 - accuracy: 0.4430\n",
            "Epoch 17/1000\n",
            "5/5 [==============================] - 1s 130ms/step - loss: 1.8139 - accuracy: 0.4485\n",
            "Epoch 18/1000\n",
            "5/5 [==============================] - 1s 132ms/step - loss: 1.7931 - accuracy: 0.4505\n",
            "Epoch 19/1000\n",
            "5/5 [==============================] - 1s 135ms/step - loss: 1.7666 - accuracy: 0.4595\n",
            "Epoch 20/1000\n",
            "5/5 [==============================] - 1s 131ms/step - loss: 1.7541 - accuracy: 0.4628\n",
            "Epoch 21/1000\n",
            "5/5 [==============================] - 1s 134ms/step - loss: 1.7247 - accuracy: 0.4705\n",
            "Epoch 22/1000\n",
            "5/5 [==============================] - 1s 133ms/step - loss: 1.7076 - accuracy: 0.4741\n",
            "Epoch 23/1000\n",
            "5/5 [==============================] - 1s 134ms/step - loss: 1.6883 - accuracy: 0.4785\n",
            "Epoch 24/1000\n",
            "5/5 [==============================] - 1s 133ms/step - loss: 1.6678 - accuracy: 0.4846\n",
            "Epoch 25/1000\n",
            "5/5 [==============================] - 1s 134ms/step - loss: 1.6503 - accuracy: 0.4893\n",
            "Epoch 26/1000\n",
            "5/5 [==============================] - 1s 134ms/step - loss: 1.6200 - accuracy: 0.4993\n",
            "Epoch 27/1000\n",
            "5/5 [==============================] - 1s 136ms/step - loss: 1.6038 - accuracy: 0.5016\n",
            "Epoch 28/1000\n",
            "5/5 [==============================] - 1s 137ms/step - loss: 1.5907 - accuracy: 0.5007\n",
            "Epoch 29/1000\n",
            "5/5 [==============================] - 1s 136ms/step - loss: 1.5641 - accuracy: 0.5151\n",
            "Epoch 30/1000\n",
            "5/5 [==============================] - 1s 135ms/step - loss: 1.5544 - accuracy: 0.5140\n",
            "Epoch 31/1000\n",
            "5/5 [==============================] - 1s 137ms/step - loss: 1.5319 - accuracy: 0.5211\n",
            "Epoch 32/1000\n",
            "5/5 [==============================] - 1s 136ms/step - loss: 1.5145 - accuracy: 0.5258\n",
            "Epoch 33/1000\n",
            "5/5 [==============================] - 1s 136ms/step - loss: 1.5020 - accuracy: 0.5312\n",
            "Epoch 34/1000\n",
            "5/5 [==============================] - 1s 135ms/step - loss: 1.4765 - accuracy: 0.5377\n",
            "Epoch 35/1000\n",
            "5/5 [==============================] - 1s 134ms/step - loss: 1.4484 - accuracy: 0.5437\n",
            "Epoch 36/1000\n",
            "5/5 [==============================] - 1s 134ms/step - loss: 1.4385 - accuracy: 0.5475\n",
            "Epoch 37/1000\n",
            "5/5 [==============================] - 1s 136ms/step - loss: 1.4151 - accuracy: 0.5542\n",
            "Epoch 38/1000\n",
            "5/5 [==============================] - 1s 135ms/step - loss: 1.3987 - accuracy: 0.5591\n",
            "Epoch 39/1000\n",
            "5/5 [==============================] - 1s 135ms/step - loss: 1.3733 - accuracy: 0.5663\n",
            "Epoch 40/1000\n",
            "5/5 [==============================] - 1s 134ms/step - loss: 1.3655 - accuracy: 0.5682\n",
            "Epoch 41/1000\n",
            "5/5 [==============================] - 1s 134ms/step - loss: 1.3423 - accuracy: 0.5748\n",
            "Epoch 42/1000\n",
            "5/5 [==============================] - 1s 134ms/step - loss: 1.3191 - accuracy: 0.5820\n",
            "Epoch 43/1000\n",
            "5/5 [==============================] - 1s 133ms/step - loss: 1.3024 - accuracy: 0.5853\n",
            "Epoch 44/1000\n",
            "5/5 [==============================] - 1s 135ms/step - loss: 1.2845 - accuracy: 0.5912\n",
            "Epoch 45/1000\n",
            "5/5 [==============================] - 1s 131ms/step - loss: 1.2698 - accuracy: 0.5924\n",
            "Epoch 46/1000\n",
            "5/5 [==============================] - 1s 134ms/step - loss: 1.2562 - accuracy: 0.5968\n",
            "Epoch 47/1000\n",
            "5/5 [==============================] - 1s 132ms/step - loss: 1.2453 - accuracy: 0.6018\n",
            "Epoch 48/1000\n",
            "5/5 [==============================] - 1s 135ms/step - loss: 1.2223 - accuracy: 0.6047\n",
            "Epoch 49/1000\n",
            "5/5 [==============================] - 1s 134ms/step - loss: 1.2006 - accuracy: 0.6103\n",
            "Epoch 50/1000\n",
            "5/5 [==============================] - 1s 131ms/step - loss: 1.1886 - accuracy: 0.6112\n",
            "Epoch 51/1000\n",
            "5/5 [==============================] - 1s 131ms/step - loss: 1.1804 - accuracy: 0.6163\n",
            "Epoch 52/1000\n",
            "5/5 [==============================] - 1s 131ms/step - loss: 1.1592 - accuracy: 0.6229\n",
            "Epoch 53/1000\n",
            "5/5 [==============================] - 1s 130ms/step - loss: 1.1618 - accuracy: 0.6192\n",
            "Epoch 54/1000\n",
            "5/5 [==============================] - 1s 133ms/step - loss: 1.1403 - accuracy: 0.6253\n",
            "Epoch 55/1000\n",
            "5/5 [==============================] - 1s 134ms/step - loss: 1.1379 - accuracy: 0.6233\n",
            "Epoch 56/1000\n",
            "5/5 [==============================] - 1s 130ms/step - loss: 1.1205 - accuracy: 0.6279\n",
            "Epoch 57/1000\n",
            "5/5 [==============================] - 1s 129ms/step - loss: 1.1101 - accuracy: 0.6303\n",
            "Epoch 58/1000\n",
            "5/5 [==============================] - 1s 130ms/step - loss: 1.0954 - accuracy: 0.6327\n",
            "Epoch 59/1000\n",
            "5/5 [==============================] - 1s 131ms/step - loss: 1.0872 - accuracy: 0.6360\n",
            "Epoch 60/1000\n",
            "5/5 [==============================] - 1s 130ms/step - loss: 1.0785 - accuracy: 0.6380\n",
            "Epoch 61/1000\n",
            "5/5 [==============================] - 1s 131ms/step - loss: 1.0624 - accuracy: 0.6423\n",
            "Epoch 62/1000\n",
            "5/5 [==============================] - 1s 132ms/step - loss: 1.0541 - accuracy: 0.6471\n",
            "Epoch 63/1000\n",
            "5/5 [==============================] - 1s 130ms/step - loss: 1.0497 - accuracy: 0.6425\n",
            "Epoch 64/1000\n",
            "5/5 [==============================] - 1s 131ms/step - loss: 1.0430 - accuracy: 0.6444\n",
            "Epoch 65/1000\n",
            "5/5 [==============================] - 1s 132ms/step - loss: 1.0343 - accuracy: 0.6467\n",
            "Epoch 66/1000\n",
            "5/5 [==============================] - 1s 130ms/step - loss: 1.0220 - accuracy: 0.6503\n",
            "Epoch 67/1000\n",
            "5/5 [==============================] - 1s 131ms/step - loss: 1.0164 - accuracy: 0.6526\n",
            "Epoch 68/1000\n",
            "5/5 [==============================] - 1s 130ms/step - loss: 1.0123 - accuracy: 0.6495\n",
            "Epoch 69/1000\n",
            "5/5 [==============================] - 1s 131ms/step - loss: 1.0039 - accuracy: 0.6546\n",
            "Epoch 70/1000\n",
            "5/5 [==============================] - 1s 130ms/step - loss: 0.9984 - accuracy: 0.6556\n",
            "Epoch 71/1000\n",
            "5/5 [==============================] - 1s 131ms/step - loss: 0.9893 - accuracy: 0.6535\n",
            "Epoch 72/1000\n",
            "5/5 [==============================] - 1s 130ms/step - loss: 0.9921 - accuracy: 0.6538\n",
            "Epoch 73/1000\n",
            "5/5 [==============================] - 1s 131ms/step - loss: 0.9860 - accuracy: 0.6552\n",
            "Epoch 74/1000\n",
            "5/5 [==============================] - 1s 130ms/step - loss: 0.9752 - accuracy: 0.6587\n",
            "Epoch 75/1000\n",
            "5/5 [==============================] - 1s 130ms/step - loss: 0.9671 - accuracy: 0.6598\n",
            "Epoch 76/1000\n",
            "5/5 [==============================] - 1s 131ms/step - loss: 0.9635 - accuracy: 0.6622\n",
            "Epoch 77/1000\n",
            "5/5 [==============================] - 1s 131ms/step - loss: 0.9608 - accuracy: 0.6596\n",
            "Epoch 78/1000\n",
            "5/5 [==============================] - 1s 129ms/step - loss: 0.9636 - accuracy: 0.6585\n",
            "Epoch 79/1000\n",
            "5/5 [==============================] - 1s 129ms/step - loss: 0.9632 - accuracy: 0.6606\n",
            "Epoch 80/1000\n",
            "5/5 [==============================] - 1s 133ms/step - loss: 0.9587 - accuracy: 0.6597\n",
            "Epoch 81/1000\n",
            "5/5 [==============================] - 1s 128ms/step - loss: 0.9521 - accuracy: 0.6605\n",
            "Epoch 82/1000\n",
            "5/5 [==============================] - 1s 130ms/step - loss: 0.9410 - accuracy: 0.6635\n",
            "Epoch 83/1000\n",
            "5/5 [==============================] - 1s 132ms/step - loss: 0.9415 - accuracy: 0.6628\n",
            "Epoch 84/1000\n",
            "5/5 [==============================] - 1s 130ms/step - loss: 0.9370 - accuracy: 0.6646\n",
            "Epoch 85/1000\n",
            "5/5 [==============================] - 1s 129ms/step - loss: 0.9378 - accuracy: 0.6623\n",
            "Epoch 86/1000\n",
            "5/5 [==============================] - 1s 130ms/step - loss: 0.9359 - accuracy: 0.6619\n",
            "Epoch 87/1000\n",
            "5/5 [==============================] - 1s 128ms/step - loss: 0.9330 - accuracy: 0.6622\n",
            "Epoch 88/1000\n",
            "5/5 [==============================] - 1s 130ms/step - loss: 0.9274 - accuracy: 0.6634\n",
            "Epoch 89/1000\n",
            "5/5 [==============================] - 1s 129ms/step - loss: 0.9288 - accuracy: 0.6612\n",
            "Epoch 90/1000\n",
            "5/5 [==============================] - 1s 129ms/step - loss: 0.9287 - accuracy: 0.6633\n",
            "Epoch 91/1000\n",
            "5/5 [==============================] - 1s 130ms/step - loss: 0.9233 - accuracy: 0.6654\n",
            "Epoch 92/1000\n",
            "5/5 [==============================] - 1s 130ms/step - loss: 0.9206 - accuracy: 0.6638\n",
            "Epoch 93/1000\n",
            "5/5 [==============================] - 1s 128ms/step - loss: 0.9178 - accuracy: 0.6676\n",
            "Epoch 94/1000\n",
            "5/5 [==============================] - 1s 127ms/step - loss: 0.9118 - accuracy: 0.6661\n",
            "Epoch 95/1000\n",
            "5/5 [==============================] - 1s 131ms/step - loss: 0.9195 - accuracy: 0.6643\n",
            "Epoch 96/1000\n",
            "5/5 [==============================] - 1s 128ms/step - loss: 0.9147 - accuracy: 0.6663\n",
            "Epoch 97/1000\n",
            "5/5 [==============================] - 1s 129ms/step - loss: 0.9157 - accuracy: 0.6630\n",
            "Epoch 98/1000\n",
            "5/5 [==============================] - 1s 128ms/step - loss: 0.9121 - accuracy: 0.6651\n",
            "Epoch 99/1000\n",
            "5/5 [==============================] - 1s 129ms/step - loss: 0.9084 - accuracy: 0.6652\n",
            "Epoch 100/1000\n",
            "5/5 [==============================] - 1s 129ms/step - loss: 0.9106 - accuracy: 0.6633\n",
            "Epoch 101/1000\n",
            "5/5 [==============================] - 1s 127ms/step - loss: 0.9054 - accuracy: 0.6667\n",
            "Epoch 102/1000\n",
            "5/5 [==============================] - 1s 131ms/step - loss: 0.9055 - accuracy: 0.6636\n",
            "Epoch 103/1000\n",
            "5/5 [==============================] - 1s 130ms/step - loss: 0.9021 - accuracy: 0.6644\n",
            "Epoch 104/1000\n",
            "5/5 [==============================] - 1s 130ms/step - loss: 0.9100 - accuracy: 0.6623\n",
            "Epoch 105/1000\n",
            "5/5 [==============================] - 1s 131ms/step - loss: 0.9004 - accuracy: 0.6654\n",
            "Epoch 106/1000\n",
            "5/5 [==============================] - 1s 130ms/step - loss: 0.9009 - accuracy: 0.6648\n",
            "Epoch 107/1000\n",
            "5/5 [==============================] - 1s 129ms/step - loss: 0.8991 - accuracy: 0.6655\n",
            "Epoch 108/1000\n",
            "5/5 [==============================] - 1s 130ms/step - loss: 0.8946 - accuracy: 0.6671\n",
            "Epoch 109/1000\n",
            "5/5 [==============================] - 1s 129ms/step - loss: 0.8999 - accuracy: 0.6635\n",
            "Epoch 110/1000\n",
            "5/5 [==============================] - 1s 131ms/step - loss: 0.9051 - accuracy: 0.6622\n",
            "Epoch 111/1000\n",
            "5/5 [==============================] - 1s 129ms/step - loss: 0.8990 - accuracy: 0.6630\n",
            "Epoch 112/1000\n",
            "5/5 [==============================] - 1s 132ms/step - loss: 0.8923 - accuracy: 0.6654\n",
            "Epoch 113/1000\n",
            "5/5 [==============================] - 1s 130ms/step - loss: 0.8948 - accuracy: 0.6659\n",
            "Epoch 114/1000\n",
            "5/5 [==============================] - 1s 130ms/step - loss: 0.8945 - accuracy: 0.6658\n",
            "Epoch 115/1000\n",
            "5/5 [==============================] - 1s 129ms/step - loss: 0.8916 - accuracy: 0.6655\n",
            "Epoch 116/1000\n",
            "5/5 [==============================] - 1s 130ms/step - loss: 0.8907 - accuracy: 0.6685\n",
            "Epoch 117/1000\n",
            "5/5 [==============================] - 1s 128ms/step - loss: 0.8922 - accuracy: 0.6640\n",
            "Epoch 118/1000\n",
            "5/5 [==============================] - 1s 131ms/step - loss: 0.8814 - accuracy: 0.6674\n",
            "Epoch 119/1000\n",
            "5/5 [==============================] - 1s 131ms/step - loss: 0.8920 - accuracy: 0.6657\n",
            "Epoch 120/1000\n",
            "5/5 [==============================] - 1s 130ms/step - loss: 0.8919 - accuracy: 0.6666\n",
            "Epoch 121/1000\n",
            "5/5 [==============================] - 1s 129ms/step - loss: 0.8854 - accuracy: 0.6678\n",
            "Epoch 122/1000\n",
            "5/5 [==============================] - 1s 129ms/step - loss: 0.8848 - accuracy: 0.6655\n",
            "Epoch 123/1000\n",
            "5/5 [==============================] - 1s 130ms/step - loss: 0.8900 - accuracy: 0.6676\n",
            "\n",
            "Reached 66.58% accuracy, stopping training!\n"
          ],
          "name": "stdout"
        }
      ]
    },
    {
      "cell_type": "code",
      "metadata": {
        "colab": {
          "base_uri": "https://localhost:8080/",
          "height": 282
        },
        "id": "Y4t1Cr60K6J6",
        "outputId": "dacbbc00-1823-4900-f172-40300a628816"
      },
      "source": [
        "plt.plot(history_female.history['accuracy'])"
      ],
      "execution_count": 80,
      "outputs": [
        {
          "output_type": "execute_result",
          "data": {
            "text/plain": [
              "[<matplotlib.lines.Line2D at 0x7fb7222167d0>]"
            ]
          },
          "metadata": {
            "tags": []
          },
          "execution_count": 80
        },
        {
          "output_type": "display_data",
          "data": {
            "image/png": "[encoded data removed]",
            "text/plain": [
              "<Figure size 432x288 with 1 Axes>"
            ]
          },
          "metadata": {
            "tags": [],
            "needs_background": "light"
          }
        }
      ]
    },
    {
      "cell_type": "code",
      "metadata": {
        "colab": {
          "base_uri": "https://localhost:8080/",
          "height": 282
        },
        "id": "9W0kbVY_K6iJ",
        "outputId": "e3e8defe-601d-4efd-debf-2358f7a4233f"
      },
      "source": [
        "plt.plot(history_female.history['loss'])"
      ],
      "execution_count": 81,
      "outputs": [
        {
          "output_type": "execute_result",
          "data": {
            "text/plain": [
              "[<matplotlib.lines.Line2D at 0x7fb722185110>]"
            ]
          },
          "metadata": {
            "tags": []
          },
          "execution_count": 81
        },
        {
          "output_type": "display_data",
          "data": {
            "image/png": "[encoded data removed]",
            "text/plain": [
              "<Figure size 432x288 with 1 Axes>"
            ]
          },
          "metadata": {
            "tags": [],
            "needs_background": "light"
          }
        }
      ]
    },
    {
      "cell_type": "code",
      "metadata": {
        "id": "g5vaErFpN6HQ"
      },
      "source": [
        "def sample(model):\n",
        "\n",
        "  # Initiate list of indices with random number (letter), this is the list which will contain the list of indices of the characters to generate\n",
        "  first_letter = np.random.randint(1,33)\n",
        "\n",
        "  indices = [first_letter]\n",
        "  \n",
        "  # idx is the index of the one-hot vector x that is set to 1\n",
        "  # All other positions in x are zero.\n",
        "  # We will initialize idx to -1\n",
        "  idx = -1 \n",
        "  \n",
        "  # Loop over time-steps t. At each time-step:\n",
        "  # sample a character from a probability distribution \n",
        "  # and append its index (`idx`) to the list \"indices\". \n",
        "  # We'll stop if we reach 20 characters \n",
        "  # (which should be very unlikely with a well trained model).\n",
        "  # Setting the maximum number of characters helps with debugging and prevents infinite loops\n",
        "\n",
        "  \n",
        "  newline_character = char_to_ix['\\n']\n",
        "\n",
        "  counter = 0\n",
        "\n",
        "  # Azerbaijani names does not start with one of these letters\n",
        "  if ix_to_char[first_letter] != 'ı' and ix_to_char[first_letter] != 'ğ':\n",
        "    \n",
        "    while idx != newline_character and counter != 20:\n",
        "      token_list = pad_sequences([indices], maxlen=max_m_name_len-1, padding='pre')\n",
        "      predicted = model.predict(token_list)\n",
        "      idx = np.random.choice(range(vocab_size), p = predicted.ravel())\n",
        "      indices.append(idx)\n",
        "    name =''.join([ix_to_char[i] for i in indices[:-1]])\n",
        "    \n",
        "\n",
        "    return name"
      ],
      "execution_count": 82,
      "outputs": []
    },
    {
      "cell_type": "code",
      "metadata": {
        "id": "sIrTyA2pEOhf"
      },
      "source": [
        "def generate(model, iter_num = 30):\n",
        "\n",
        "\n",
        "  while iter_num>0:\n",
        "    name = sample(model)\n",
        "    if name != None:\n",
        "      if name not in m_names and name not in f_names:\n",
        "        iter_num -= 1\n",
        "        if name[0] == 'i':\n",
        "          print('İ' + name[1:])\n",
        "          \n",
        "        else:\n",
        "          print(name.capitalize())"
      ],
      "execution_count": 83,
      "outputs": []
    },
    {
      "cell_type": "code",
      "metadata": {
        "id": "ueQ4cGYGB8kD"
      },
      "source": [
        "import ipywidgets as widgets\n",
        "from IPython.display import display\n",
        "from IPython.display import clear_output"
      ],
      "execution_count": 84,
      "outputs": []
    },
    {
      "cell_type": "code",
      "metadata": {
        "id": "MuGzzFhgCnf3"
      },
      "source": [
        "# we will create widgets to make it better to visualize\n",
        "\n",
        "gender = widgets.Dropdown(options = [None, 'Male', 'Female'], description = 'Gender' )\n",
        "output = widgets.Output()\n",
        "\n",
        "number = widgets.BoundedFloatText(\n",
        "min=1, max=50, value=15, step=1, description = 'Number')\n",
        "\n",
        "def common(name, number):\n",
        "  \n",
        "  with output:\n",
        "    output.clear_output()\n",
        "\n",
        "    if name == 'Male':\n",
        "      generate(model_male, number)\n",
        "      \n",
        "\n",
        "    if name == 'Female':\n",
        "      generate(model_female, number)\n",
        "\n",
        "def name_eventhandler(change):\n",
        "    common(change.new, number.value)\n",
        "\n",
        "def number_eventhandler(change):\n",
        "    common(gender.value, change.new)\n",
        "\n",
        "\n",
        "gender.observe(name_eventhandler, names = 'value')\n",
        "number.observe(number_eventhandler, names = 'value')"
      ],
      "execution_count": 85,
      "outputs": []
    },
    {
      "cell_type": "markdown",
      "metadata": {
        "id": "SA8FifjL8Hst"
      },
      "source": [
        "#Generating New Names"
      ]
    },
    {
      "cell_type": "code",
      "metadata": {
        "colab": {
          "base_uri": "https://localhost:8080/",
          "height": 331,
          "referenced_widgets": [
            "d9e3a37d2c4c4f97b86d78e02d1173c2",
            "1ce2fb6eb28d42469573c9e142262ca5",
            "6c520ff9bafd410f9f8251360e7953e1",
            "04f2df6bf277493bb66333e71ef2cba9",
            "1b3e14ef49314b5b8fc5805bef71b5e7",
            "42b32988d833409d92c1fa64e5606f98",
            "d0d8b3833bbd42dcb4bdd8197f5866f0",
            "004fa6b5e95f46a4ae9a788b721ee8b9"
          ]
        },
        "id": "h8X1x6tHE-6E",
        "outputId": "d3fe5e37-3f0a-40e3-d69d-4fef0ff8401b"
      },
      "source": [
        "display(gender)\n",
        "display(number)\n",
        "\n",
        "display(output)"
      ],
      "execution_count": 86,
      "outputs": [
        {
          "output_type": "display_data",
          "data": {
            "application/vnd.jupyter.widget-view+json": {
              "model_id": "d9e3a37d2c4c4f97b86d78e02d1173c2",
              "version_minor": 0,
              "version_major": 2
            },
            "text/plain": [
              "Dropdown(description='Gender', options=(None, 'Male', 'Female'), value=None)"
            ]
          },
          "metadata": {
            "tags": []
          }
        },
        {
          "output_type": "display_data",
          "data": {
            "application/vnd.jupyter.widget-view+json": {
              "model_id": "04f2df6bf277493bb66333e71ef2cba9",
              "version_minor": 0,
              "version_major": 2
            },
            "text/plain": [
              "BoundedFloatText(value=15.0, description='Number', max=50.0, min=1.0, step=1.0)"
            ]
          },
          "metadata": {
            "tags": []
          }
        },
        {
          "output_type": "display_data",
          "data": {
            "application/vnd.jupyter.widget-view+json": {
              "model_id": "d0d8b3833bbd42dcb4bdd8197f5866f0",
              "version_minor": 0,
              "version_major": 2
            },
            "text/plain": [
              "Output()"
            ]
          },
          "metadata": {
            "tags": []
          }
        }
      ]
    },
    {
      "cell_type": "code",
      "metadata": {
        "id": "Mu_3H1A8A-kl"
      },
      "source": [
        ""
      ],
      "execution_count": null,
      "outputs": []
    }
  ]
}